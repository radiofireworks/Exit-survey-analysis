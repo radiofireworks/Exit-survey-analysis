{
 "cells": [
  {
   "cell_type": "markdown",
   "metadata": {
    "collapsed": true
   },
   "source": [
    "# Does length of service and employee age affect job satisfaction?\n",
    "In this project, we will analyse exit surveys from employees of the [Department of Education, Training and Employment](https://en.wikipedia.org/wiki/Department_of_Education_and_Training_(Queensland)) (DETE) and the [Technical and Further Education](https://en.wikipedia.org/wiki/Technical_and_further_education) (TAFE) institute in Queensland, Australia. Our aim is to answer to the following questions:\n",
    "- are employees who only worked for the institutes for a short period of time resigning due to some kind of dissatisfaction? What about employees who have been there longer?\n",
    "- are younger employees resigning due to some kind of dissatisfaction? What about older employees?\n",
    "\n",
    "Data used in this project:\n",
    "- [DETE exit survey data](https://data.gov.au/dataset/ds-qld-fe96ff30-d157-4a81-851d-215f2a0fe26d/details?q=exit%20survey)\n",
    "- [TAFE exit survey data](https://data.gov.au/dataset/ds-qld-89970a3b-182b-41ea-aea2-6f9f17b5907e/details?q=exit%20survey)\n",
    "\n",
    "We will be combining the data from both departments to try and answer these questions. However, although both used the same survey template, one of them customised some of the answers. This will require a degree of cleaning before we can combine the two datasets.\n",
    "\n",
    "A data dictionary has not been provided for this dataset, so we will do our best to infer the definitions of each column from its name. Here is a preview of some of the columns from two datasets:\n",
    "\n",
    "**DETE**\n",
    "\n",
    "| Column      | Description |\n",
    "| ----------- | ----------- |\n",
    "| ID      |    An id used to identify the participant of the survey    |\n",
    "| SeparationType   |  The reason why the person's employment ended      |\n",
    "|   Cease Date |    The year or month the person's employment ended    |\n",
    "|DETE Start Date|    The year the person began employment with the DETE    |\n",
    "\n",
    "**TAFE**\n",
    "\n",
    "| Column      | Description |\n",
    "| ----------- | ----------- |\n",
    "|  Record ID  |  An id used to identify the participant of the survey      |\n",
    "|  Reason for ceasing employment  | The reason why the person's employment ended       |\n",
    "|  LengthofServiceOverall. Overall Length of Service at Institute (in years) |  The length of the person's employment (in years)       |"
   ]
  },
  {
   "cell_type": "code",
   "execution_count": 49,
   "metadata": {},
   "outputs": [],
   "source": [
    "# import libraries\n",
    "import pandas as pd\n",
    "import numpy as np\n",
    "import matplotlib.pyplot as plt\n",
    "\n",
    "# run Jupyter magic so that plots are displayed inline\n",
    "%matplotlib inline  "
   ]
  },
  {
   "cell_type": "markdown",
   "metadata": {},
   "source": [
    "## Read and explore the datasets"
   ]
  },
  {
   "cell_type": "code",
   "execution_count": 50,
   "metadata": {},
   "outputs": [
    {
     "name": "stdout",
     "output_type": "stream",
     "text": [
      "<class 'pandas.core.frame.DataFrame'>\n",
      "RangeIndex: 822 entries, 0 to 821\n",
      "Data columns (total 56 columns):\n",
      " #   Column                               Non-Null Count  Dtype \n",
      "---  ------                               --------------  ----- \n",
      " 0   ID                                   822 non-null    int64 \n",
      " 1   SeparationType                       822 non-null    object\n",
      " 2   Cease Date                           822 non-null    object\n",
      " 3   DETE Start Date                      822 non-null    object\n",
      " 4   Role Start Date                      822 non-null    object\n",
      " 5   Position                             817 non-null    object\n",
      " 6   Classification                       455 non-null    object\n",
      " 7   Region                               822 non-null    object\n",
      " 8   Business Unit                        126 non-null    object\n",
      " 9   Employment Status                    817 non-null    object\n",
      " 10  Career move to public sector         822 non-null    bool  \n",
      " 11  Career move to private sector        822 non-null    bool  \n",
      " 12  Interpersonal conflicts              822 non-null    bool  \n",
      " 13  Job dissatisfaction                  822 non-null    bool  \n",
      " 14  Dissatisfaction with the department  822 non-null    bool  \n",
      " 15  Physical work environment            822 non-null    bool  \n",
      " 16  Lack of recognition                  822 non-null    bool  \n",
      " 17  Lack of job security                 822 non-null    bool  \n",
      " 18  Work location                        822 non-null    bool  \n",
      " 19  Employment conditions                822 non-null    bool  \n",
      " 20  Maternity/family                     822 non-null    bool  \n",
      " 21  Relocation                           822 non-null    bool  \n",
      " 22  Study/Travel                         822 non-null    bool  \n",
      " 23  Ill Health                           822 non-null    bool  \n",
      " 24  Traumatic incident                   822 non-null    bool  \n",
      " 25  Work life balance                    822 non-null    bool  \n",
      " 26  Workload                             822 non-null    bool  \n",
      " 27  None of the above                    822 non-null    bool  \n",
      " 28  Professional Development             808 non-null    object\n",
      " 29  Opportunities for promotion          735 non-null    object\n",
      " 30  Staff morale                         816 non-null    object\n",
      " 31  Workplace issue                      788 non-null    object\n",
      " 32  Physical environment                 817 non-null    object\n",
      " 33  Worklife balance                     815 non-null    object\n",
      " 34  Stress and pressure support          810 non-null    object\n",
      " 35  Performance of supervisor            813 non-null    object\n",
      " 36  Peer support                         812 non-null    object\n",
      " 37  Initiative                           813 non-null    object\n",
      " 38  Skills                               811 non-null    object\n",
      " 39  Coach                                767 non-null    object\n",
      " 40  Career Aspirations                   746 non-null    object\n",
      " 41  Feedback                             792 non-null    object\n",
      " 42  Further PD                           768 non-null    object\n",
      " 43  Communication                        814 non-null    object\n",
      " 44  My say                               812 non-null    object\n",
      " 45  Information                          816 non-null    object\n",
      " 46  Kept informed                        813 non-null    object\n",
      " 47  Wellness programs                    766 non-null    object\n",
      " 48  Health & Safety                      793 non-null    object\n",
      " 49  Gender                               798 non-null    object\n",
      " 50  Age                                  811 non-null    object\n",
      " 51  Aboriginal                           16 non-null     object\n",
      " 52  Torres Strait                        3 non-null      object\n",
      " 53  South Sea                            7 non-null      object\n",
      " 54  Disability                           23 non-null     object\n",
      " 55  NESB                                 32 non-null     object\n",
      "dtypes: bool(18), int64(1), object(37)\n",
      "memory usage: 258.6+ KB\n"
     ]
    }
   ],
   "source": [
    "# read DETE dataset and explore dataframe\n",
    "dete_survey = pd.read_csv(\"dete_survey.csv\")\n",
    "dete_survey.info()"
   ]
  },
  {
   "cell_type": "code",
   "execution_count": 51,
   "metadata": {},
   "outputs": [
    {
     "data": {
      "text/html": [
       "<div>\n",
       "<style scoped>\n",
       "    .dataframe tbody tr th:only-of-type {\n",
       "        vertical-align: middle;\n",
       "    }\n",
       "\n",
       "    .dataframe tbody tr th {\n",
       "        vertical-align: top;\n",
       "    }\n",
       "\n",
       "    .dataframe thead th {\n",
       "        text-align: right;\n",
       "    }\n",
       "</style>\n",
       "<table border=\"1\" class=\"dataframe\">\n",
       "  <thead>\n",
       "    <tr style=\"text-align: right;\">\n",
       "      <th></th>\n",
       "      <th>ID</th>\n",
       "      <th>SeparationType</th>\n",
       "      <th>Cease Date</th>\n",
       "      <th>DETE Start Date</th>\n",
       "      <th>Role Start Date</th>\n",
       "      <th>Position</th>\n",
       "      <th>Classification</th>\n",
       "      <th>Region</th>\n",
       "      <th>Business Unit</th>\n",
       "      <th>Employment Status</th>\n",
       "      <th>...</th>\n",
       "      <th>Kept informed</th>\n",
       "      <th>Wellness programs</th>\n",
       "      <th>Health &amp; Safety</th>\n",
       "      <th>Gender</th>\n",
       "      <th>Age</th>\n",
       "      <th>Aboriginal</th>\n",
       "      <th>Torres Strait</th>\n",
       "      <th>South Sea</th>\n",
       "      <th>Disability</th>\n",
       "      <th>NESB</th>\n",
       "    </tr>\n",
       "  </thead>\n",
       "  <tbody>\n",
       "    <tr>\n",
       "      <th>0</th>\n",
       "      <td>1</td>\n",
       "      <td>Ill Health Retirement</td>\n",
       "      <td>08/2012</td>\n",
       "      <td>1984</td>\n",
       "      <td>2004</td>\n",
       "      <td>Public Servant</td>\n",
       "      <td>A01-A04</td>\n",
       "      <td>Central Office</td>\n",
       "      <td>Corporate Strategy and Peformance</td>\n",
       "      <td>Permanent Full-time</td>\n",
       "      <td>...</td>\n",
       "      <td>N</td>\n",
       "      <td>N</td>\n",
       "      <td>N</td>\n",
       "      <td>Male</td>\n",
       "      <td>56-60</td>\n",
       "      <td>NaN</td>\n",
       "      <td>NaN</td>\n",
       "      <td>NaN</td>\n",
       "      <td>NaN</td>\n",
       "      <td>Yes</td>\n",
       "    </tr>\n",
       "    <tr>\n",
       "      <th>1</th>\n",
       "      <td>2</td>\n",
       "      <td>Voluntary Early Retirement (VER)</td>\n",
       "      <td>08/2012</td>\n",
       "      <td>Not Stated</td>\n",
       "      <td>Not Stated</td>\n",
       "      <td>Public Servant</td>\n",
       "      <td>AO5-AO7</td>\n",
       "      <td>Central Office</td>\n",
       "      <td>Corporate Strategy and Peformance</td>\n",
       "      <td>Permanent Full-time</td>\n",
       "      <td>...</td>\n",
       "      <td>N</td>\n",
       "      <td>N</td>\n",
       "      <td>N</td>\n",
       "      <td>Male</td>\n",
       "      <td>56-60</td>\n",
       "      <td>NaN</td>\n",
       "      <td>NaN</td>\n",
       "      <td>NaN</td>\n",
       "      <td>NaN</td>\n",
       "      <td>NaN</td>\n",
       "    </tr>\n",
       "    <tr>\n",
       "      <th>2</th>\n",
       "      <td>3</td>\n",
       "      <td>Voluntary Early Retirement (VER)</td>\n",
       "      <td>05/2012</td>\n",
       "      <td>2011</td>\n",
       "      <td>2011</td>\n",
       "      <td>Schools Officer</td>\n",
       "      <td>NaN</td>\n",
       "      <td>Central Office</td>\n",
       "      <td>Education Queensland</td>\n",
       "      <td>Permanent Full-time</td>\n",
       "      <td>...</td>\n",
       "      <td>N</td>\n",
       "      <td>N</td>\n",
       "      <td>N</td>\n",
       "      <td>Male</td>\n",
       "      <td>61 or older</td>\n",
       "      <td>NaN</td>\n",
       "      <td>NaN</td>\n",
       "      <td>NaN</td>\n",
       "      <td>NaN</td>\n",
       "      <td>NaN</td>\n",
       "    </tr>\n",
       "    <tr>\n",
       "      <th>3</th>\n",
       "      <td>4</td>\n",
       "      <td>Resignation-Other reasons</td>\n",
       "      <td>05/2012</td>\n",
       "      <td>2005</td>\n",
       "      <td>2006</td>\n",
       "      <td>Teacher</td>\n",
       "      <td>Primary</td>\n",
       "      <td>Central Queensland</td>\n",
       "      <td>NaN</td>\n",
       "      <td>Permanent Full-time</td>\n",
       "      <td>...</td>\n",
       "      <td>A</td>\n",
       "      <td>N</td>\n",
       "      <td>A</td>\n",
       "      <td>Female</td>\n",
       "      <td>36-40</td>\n",
       "      <td>NaN</td>\n",
       "      <td>NaN</td>\n",
       "      <td>NaN</td>\n",
       "      <td>NaN</td>\n",
       "      <td>NaN</td>\n",
       "    </tr>\n",
       "    <tr>\n",
       "      <th>4</th>\n",
       "      <td>5</td>\n",
       "      <td>Age Retirement</td>\n",
       "      <td>05/2012</td>\n",
       "      <td>1970</td>\n",
       "      <td>1989</td>\n",
       "      <td>Head of Curriculum/Head of Special Education</td>\n",
       "      <td>NaN</td>\n",
       "      <td>South East</td>\n",
       "      <td>NaN</td>\n",
       "      <td>Permanent Full-time</td>\n",
       "      <td>...</td>\n",
       "      <td>N</td>\n",
       "      <td>A</td>\n",
       "      <td>M</td>\n",
       "      <td>Female</td>\n",
       "      <td>61 or older</td>\n",
       "      <td>NaN</td>\n",
       "      <td>NaN</td>\n",
       "      <td>NaN</td>\n",
       "      <td>NaN</td>\n",
       "      <td>NaN</td>\n",
       "    </tr>\n",
       "  </tbody>\n",
       "</table>\n",
       "<p>5 rows × 56 columns</p>\n",
       "</div>"
      ],
      "text/plain": [
       "   ID                    SeparationType Cease Date DETE Start Date  \\\n",
       "0   1             Ill Health Retirement    08/2012            1984   \n",
       "1   2  Voluntary Early Retirement (VER)    08/2012      Not Stated   \n",
       "2   3  Voluntary Early Retirement (VER)    05/2012            2011   \n",
       "3   4         Resignation-Other reasons    05/2012            2005   \n",
       "4   5                    Age Retirement    05/2012            1970   \n",
       "\n",
       "  Role Start Date                                      Position  \\\n",
       "0            2004                                Public Servant   \n",
       "1      Not Stated                                Public Servant   \n",
       "2            2011                               Schools Officer   \n",
       "3            2006                                       Teacher   \n",
       "4            1989  Head of Curriculum/Head of Special Education   \n",
       "\n",
       "  Classification              Region                      Business Unit  \\\n",
       "0        A01-A04      Central Office  Corporate Strategy and Peformance   \n",
       "1        AO5-AO7      Central Office  Corporate Strategy and Peformance   \n",
       "2            NaN      Central Office               Education Queensland   \n",
       "3        Primary  Central Queensland                                NaN   \n",
       "4            NaN          South East                                NaN   \n",
       "\n",
       "     Employment Status  ...  Kept informed  Wellness programs  \\\n",
       "0  Permanent Full-time  ...              N                  N   \n",
       "1  Permanent Full-time  ...              N                  N   \n",
       "2  Permanent Full-time  ...              N                  N   \n",
       "3  Permanent Full-time  ...              A                  N   \n",
       "4  Permanent Full-time  ...              N                  A   \n",
       "\n",
       "   Health & Safety  Gender          Age  Aboriginal  Torres Strait  South Sea  \\\n",
       "0                N    Male        56-60         NaN            NaN        NaN   \n",
       "1                N    Male        56-60         NaN            NaN        NaN   \n",
       "2                N    Male  61 or older         NaN            NaN        NaN   \n",
       "3                A  Female        36-40         NaN            NaN        NaN   \n",
       "4                M  Female  61 or older         NaN            NaN        NaN   \n",
       "\n",
       "   Disability  NESB  \n",
       "0         NaN   Yes  \n",
       "1         NaN   NaN  \n",
       "2         NaN   NaN  \n",
       "3         NaN   NaN  \n",
       "4         NaN   NaN  \n",
       "\n",
       "[5 rows x 56 columns]"
      ]
     },
     "execution_count": 51,
     "metadata": {},
     "output_type": "execute_result"
    }
   ],
   "source": [
    "# explore first 5 rows\n",
    "dete_survey.head()"
   ]
  },
  {
   "cell_type": "code",
   "execution_count": 52,
   "metadata": {
    "scrolled": false
   },
   "outputs": [
    {
     "name": "stdout",
     "output_type": "stream",
     "text": [
      "<class 'pandas.core.frame.DataFrame'>\n",
      "RangeIndex: 702 entries, 0 to 701\n",
      "Data columns (total 72 columns):\n",
      " #   Column                                                                                                                                                         Non-Null Count  Dtype  \n",
      "---  ------                                                                                                                                                         --------------  -----  \n",
      " 0   Record ID                                                                                                                                                      702 non-null    float64\n",
      " 1   Institute                                                                                                                                                      702 non-null    object \n",
      " 2   WorkArea                                                                                                                                                       702 non-null    object \n",
      " 3   CESSATION YEAR                                                                                                                                                 695 non-null    float64\n",
      " 4   Reason for ceasing employment                                                                                                                                  701 non-null    object \n",
      " 5   Contributing Factors. Career Move - Public Sector                                                                                                              437 non-null    object \n",
      " 6   Contributing Factors. Career Move - Private Sector                                                                                                             437 non-null    object \n",
      " 7   Contributing Factors. Career Move - Self-employment                                                                                                            437 non-null    object \n",
      " 8   Contributing Factors. Ill Health                                                                                                                               437 non-null    object \n",
      " 9   Contributing Factors. Maternity/Family                                                                                                                         437 non-null    object \n",
      " 10  Contributing Factors. Dissatisfaction                                                                                                                          437 non-null    object \n",
      " 11  Contributing Factors. Job Dissatisfaction                                                                                                                      437 non-null    object \n",
      " 12  Contributing Factors. Interpersonal Conflict                                                                                                                   437 non-null    object \n",
      " 13  Contributing Factors. Study                                                                                                                                    437 non-null    object \n",
      " 14  Contributing Factors. Travel                                                                                                                                   437 non-null    object \n",
      " 15  Contributing Factors. Other                                                                                                                                    437 non-null    object \n",
      " 16  Contributing Factors. NONE                                                                                                                                     437 non-null    object \n",
      " 17  Main Factor. Which of these was the main factor for leaving?                                                                                                   113 non-null    object \n",
      " 18  InstituteViews. Topic:1. I feel the senior leadership had a clear vision and direction                                                                         608 non-null    object \n",
      " 19  InstituteViews. Topic:2. I was given access to skills training to help me do my job better                                                                     613 non-null    object \n",
      " 20  InstituteViews. Topic:3. I was given adequate opportunities for personal development                                                                           610 non-null    object \n",
      " 21  InstituteViews. Topic:4. I was given adequate opportunities for promotion within %Institute]Q25LBL%                                                            608 non-null    object \n",
      " 22  InstituteViews. Topic:5. I felt the salary for the job was right for the responsibilities I had                                                                615 non-null    object \n",
      " 23  InstituteViews. Topic:6. The organisation recognised when staff did good work                                                                                  607 non-null    object \n",
      " 24  InstituteViews. Topic:7. Management was generally supportive of me                                                                                             614 non-null    object \n",
      " 25  InstituteViews. Topic:8. Management was generally supportive of my team                                                                                        608 non-null    object \n",
      " 26  InstituteViews. Topic:9. I was kept informed of the changes in the organisation which would affect me                                                          610 non-null    object \n",
      " 27  InstituteViews. Topic:10. Staff morale was positive within the Institute                                                                                       602 non-null    object \n",
      " 28  InstituteViews. Topic:11. If I had a workplace issue it was dealt with quickly                                                                                 601 non-null    object \n",
      " 29  InstituteViews. Topic:12. If I had a workplace issue it was dealt with efficiently                                                                             597 non-null    object \n",
      " 30  InstituteViews. Topic:13. If I had a workplace issue it was dealt with discreetly                                                                              601 non-null    object \n",
      " 31  WorkUnitViews. Topic:14. I was satisfied with the quality of the management and supervision within my work unit                                                609 non-null    object \n",
      " 32  WorkUnitViews. Topic:15. I worked well with my colleagues                                                                                                      605 non-null    object \n",
      " 33  WorkUnitViews. Topic:16. My job was challenging and interesting                                                                                                607 non-null    object \n",
      " 34  WorkUnitViews. Topic:17. I was encouraged to use my initiative in the course of my work                                                                        610 non-null    object \n",
      " 35  WorkUnitViews. Topic:18. I had sufficient contact with other people in my job                                                                                  613 non-null    object \n",
      " 36  WorkUnitViews. Topic:19. I was given adequate support and co-operation by my peers to enable me to do my job                                                   609 non-null    object \n",
      " 37  WorkUnitViews. Topic:20. I was able to use the full range of my skills in my job                                                                               609 non-null    object \n",
      " 38  WorkUnitViews. Topic:21. I was able to use the full range of my abilities in my job. ; Category:Level of Agreement; Question:YOUR VIEWS ABOUT YOUR WORK UNIT]  608 non-null    object \n",
      " 39  WorkUnitViews. Topic:22. I was able to use the full range of my knowledge in my job                                                                            608 non-null    object \n",
      " 40  WorkUnitViews. Topic:23. My job provided sufficient variety                                                                                                    611 non-null    object \n",
      " 41  WorkUnitViews. Topic:24. I was able to cope with the level of stress and pressure in my job                                                                    610 non-null    object \n",
      " 42  WorkUnitViews. Topic:25. My job allowed me to balance the demands of work and family to my satisfaction                                                        611 non-null    object \n",
      " 43  WorkUnitViews. Topic:26. My supervisor gave me adequate personal recognition and feedback on my performance                                                    606 non-null    object \n",
      " 44  WorkUnitViews. Topic:27. My working environment was satisfactory e.g. sufficient space, good lighting, suitable seating and working area                       610 non-null    object \n",
      " 45  WorkUnitViews. Topic:28. I was given the opportunity to mentor and coach others in order for me to pass on my skills and knowledge prior to my cessation date  609 non-null    object \n",
      " 46  WorkUnitViews. Topic:29. There was adequate communication between staff in my unit                                                                             603 non-null    object \n",
      " 47  WorkUnitViews. Topic:30. Staff morale was positive within my work unit                                                                                         606 non-null    object \n",
      " 48  Induction. Did you undertake Workplace Induction?                                                                                                              619 non-null    object \n",
      " 49  InductionInfo. Topic:Did you undertake a Corporate Induction?                                                                                                  432 non-null    object \n",
      " 50  InductionInfo. Topic:Did you undertake a Institute Induction?                                                                                                  483 non-null    object \n",
      " 51  InductionInfo. Topic: Did you undertake Team Induction?                                                                                                        440 non-null    object \n",
      " 52  InductionInfo. Face to Face Topic:Did you undertake a Corporate Induction; Category:How it was conducted?                                                      555 non-null    object \n",
      " 53  InductionInfo. On-line Topic:Did you undertake a Corporate Induction; Category:How it was conducted?                                                           555 non-null    object \n",
      " 54  InductionInfo. Induction Manual Topic:Did you undertake a Corporate Induction?                                                                                 555 non-null    object \n",
      " 55  InductionInfo. Face to Face Topic:Did you undertake a Institute Induction?                                                                                     530 non-null    object \n",
      " 56  InductionInfo. On-line Topic:Did you undertake a Institute Induction?                                                                                          555 non-null    object \n",
      " 57  InductionInfo. Induction Manual Topic:Did you undertake a Institute Induction?                                                                                 553 non-null    object \n",
      " 58  InductionInfo. Face to Face Topic: Did you undertake Team Induction; Category?                                                                                 555 non-null    object \n",
      " 59  InductionInfo. On-line Topic: Did you undertake Team Induction?process you undertook and how it was conducted.]                                                555 non-null    object \n",
      " 60  InductionInfo. Induction Manual Topic: Did you undertake Team Induction?                                                                                       555 non-null    object \n",
      " 61  Workplace. Topic:Did you and your Manager develop a Performance and Professional Development Plan (PPDP)?                                                      608 non-null    object \n",
      " 62  Workplace. Topic:Does your workplace promote a work culture free from all forms of unlawful discrimination?                                                    594 non-null    object \n",
      " 63  Workplace. Topic:Does your workplace promote and practice the principles of employment equity?                                                                 587 non-null    object \n",
      " 64  Workplace. Topic:Does your workplace value the diversity of its employees?                                                                                     586 non-null    object \n",
      " 65  Workplace. Topic:Would you recommend the Institute as an employer to others?                                                                                   581 non-null    object \n",
      " 66  Gender. What is your Gender?                                                                                                                                   596 non-null    object \n",
      " 67  CurrentAge. Current Age                                                                                                                                        596 non-null    object \n",
      " 68  Employment Type. Employment Type                                                                                                                               596 non-null    object \n",
      " 69  Classification. Classification                                                                                                                                 596 non-null    object \n",
      " 70  LengthofServiceOverall. Overall Length of Service at Institute (in years)                                                                                      596 non-null    object \n",
      " 71  LengthofServiceCurrent. Length of Service at current workplace (in years)                                                                                      596 non-null    object \n",
      "dtypes: float64(2), object(70)\n",
      "memory usage: 395.0+ KB\n"
     ]
    }
   ],
   "source": [
    "# read TAFE dataset and explore dataframe\n",
    "tafe_survey = pd.read_csv(\"tafe_survey.csv\")\n",
    "tafe_survey.info()"
   ]
  },
  {
   "cell_type": "code",
   "execution_count": 53,
   "metadata": {
    "scrolled": false
   },
   "outputs": [
    {
     "data": {
      "text/html": [
       "<div>\n",
       "<style scoped>\n",
       "    .dataframe tbody tr th:only-of-type {\n",
       "        vertical-align: middle;\n",
       "    }\n",
       "\n",
       "    .dataframe tbody tr th {\n",
       "        vertical-align: top;\n",
       "    }\n",
       "\n",
       "    .dataframe thead th {\n",
       "        text-align: right;\n",
       "    }\n",
       "</style>\n",
       "<table border=\"1\" class=\"dataframe\">\n",
       "  <thead>\n",
       "    <tr style=\"text-align: right;\">\n",
       "      <th></th>\n",
       "      <th>Record ID</th>\n",
       "      <th>Institute</th>\n",
       "      <th>WorkArea</th>\n",
       "      <th>CESSATION YEAR</th>\n",
       "      <th>Reason for ceasing employment</th>\n",
       "      <th>Contributing Factors. Career Move - Public Sector</th>\n",
       "      <th>Contributing Factors. Career Move - Private Sector</th>\n",
       "      <th>Contributing Factors. Career Move - Self-employment</th>\n",
       "      <th>Contributing Factors. Ill Health</th>\n",
       "      <th>Contributing Factors. Maternity/Family</th>\n",
       "      <th>...</th>\n",
       "      <th>Workplace. Topic:Does your workplace promote a work culture free from all forms of unlawful discrimination?</th>\n",
       "      <th>Workplace. Topic:Does your workplace promote and practice the principles of employment equity?</th>\n",
       "      <th>Workplace. Topic:Does your workplace value the diversity of its employees?</th>\n",
       "      <th>Workplace. Topic:Would you recommend the Institute as an employer to others?</th>\n",
       "      <th>Gender. What is your Gender?</th>\n",
       "      <th>CurrentAge. Current Age</th>\n",
       "      <th>Employment Type. Employment Type</th>\n",
       "      <th>Classification. Classification</th>\n",
       "      <th>LengthofServiceOverall. Overall Length of Service at Institute (in years)</th>\n",
       "      <th>LengthofServiceCurrent. Length of Service at current workplace (in years)</th>\n",
       "    </tr>\n",
       "  </thead>\n",
       "  <tbody>\n",
       "    <tr>\n",
       "      <th>0</th>\n",
       "      <td>6.341330e+17</td>\n",
       "      <td>Southern Queensland Institute of TAFE</td>\n",
       "      <td>Non-Delivery (corporate)</td>\n",
       "      <td>2010.0</td>\n",
       "      <td>Contract Expired</td>\n",
       "      <td>NaN</td>\n",
       "      <td>NaN</td>\n",
       "      <td>NaN</td>\n",
       "      <td>NaN</td>\n",
       "      <td>NaN</td>\n",
       "      <td>...</td>\n",
       "      <td>Yes</td>\n",
       "      <td>Yes</td>\n",
       "      <td>Yes</td>\n",
       "      <td>Yes</td>\n",
       "      <td>Female</td>\n",
       "      <td>26  30</td>\n",
       "      <td>Temporary Full-time</td>\n",
       "      <td>Administration (AO)</td>\n",
       "      <td>1-2</td>\n",
       "      <td>1-2</td>\n",
       "    </tr>\n",
       "    <tr>\n",
       "      <th>1</th>\n",
       "      <td>6.341337e+17</td>\n",
       "      <td>Mount Isa Institute of TAFE</td>\n",
       "      <td>Non-Delivery (corporate)</td>\n",
       "      <td>2010.0</td>\n",
       "      <td>Retirement</td>\n",
       "      <td>-</td>\n",
       "      <td>-</td>\n",
       "      <td>-</td>\n",
       "      <td>-</td>\n",
       "      <td>-</td>\n",
       "      <td>...</td>\n",
       "      <td>Yes</td>\n",
       "      <td>Yes</td>\n",
       "      <td>Yes</td>\n",
       "      <td>Yes</td>\n",
       "      <td>NaN</td>\n",
       "      <td>NaN</td>\n",
       "      <td>NaN</td>\n",
       "      <td>NaN</td>\n",
       "      <td>NaN</td>\n",
       "      <td>NaN</td>\n",
       "    </tr>\n",
       "    <tr>\n",
       "      <th>2</th>\n",
       "      <td>6.341388e+17</td>\n",
       "      <td>Mount Isa Institute of TAFE</td>\n",
       "      <td>Delivery (teaching)</td>\n",
       "      <td>2010.0</td>\n",
       "      <td>Retirement</td>\n",
       "      <td>-</td>\n",
       "      <td>-</td>\n",
       "      <td>-</td>\n",
       "      <td>-</td>\n",
       "      <td>-</td>\n",
       "      <td>...</td>\n",
       "      <td>Yes</td>\n",
       "      <td>Yes</td>\n",
       "      <td>Yes</td>\n",
       "      <td>Yes</td>\n",
       "      <td>NaN</td>\n",
       "      <td>NaN</td>\n",
       "      <td>NaN</td>\n",
       "      <td>NaN</td>\n",
       "      <td>NaN</td>\n",
       "      <td>NaN</td>\n",
       "    </tr>\n",
       "    <tr>\n",
       "      <th>3</th>\n",
       "      <td>6.341399e+17</td>\n",
       "      <td>Mount Isa Institute of TAFE</td>\n",
       "      <td>Non-Delivery (corporate)</td>\n",
       "      <td>2010.0</td>\n",
       "      <td>Resignation</td>\n",
       "      <td>-</td>\n",
       "      <td>-</td>\n",
       "      <td>-</td>\n",
       "      <td>-</td>\n",
       "      <td>-</td>\n",
       "      <td>...</td>\n",
       "      <td>Yes</td>\n",
       "      <td>Yes</td>\n",
       "      <td>Yes</td>\n",
       "      <td>Yes</td>\n",
       "      <td>NaN</td>\n",
       "      <td>NaN</td>\n",
       "      <td>NaN</td>\n",
       "      <td>NaN</td>\n",
       "      <td>NaN</td>\n",
       "      <td>NaN</td>\n",
       "    </tr>\n",
       "    <tr>\n",
       "      <th>4</th>\n",
       "      <td>6.341466e+17</td>\n",
       "      <td>Southern Queensland Institute of TAFE</td>\n",
       "      <td>Delivery (teaching)</td>\n",
       "      <td>2010.0</td>\n",
       "      <td>Resignation</td>\n",
       "      <td>-</td>\n",
       "      <td>Career Move - Private Sector</td>\n",
       "      <td>-</td>\n",
       "      <td>-</td>\n",
       "      <td>-</td>\n",
       "      <td>...</td>\n",
       "      <td>Yes</td>\n",
       "      <td>Yes</td>\n",
       "      <td>Yes</td>\n",
       "      <td>Yes</td>\n",
       "      <td>Male</td>\n",
       "      <td>41  45</td>\n",
       "      <td>Permanent Full-time</td>\n",
       "      <td>Teacher (including LVT)</td>\n",
       "      <td>3-4</td>\n",
       "      <td>3-4</td>\n",
       "    </tr>\n",
       "  </tbody>\n",
       "</table>\n",
       "<p>5 rows × 72 columns</p>\n",
       "</div>"
      ],
      "text/plain": [
       "      Record ID                              Institute  \\\n",
       "0  6.341330e+17  Southern Queensland Institute of TAFE   \n",
       "1  6.341337e+17            Mount Isa Institute of TAFE   \n",
       "2  6.341388e+17            Mount Isa Institute of TAFE   \n",
       "3  6.341399e+17            Mount Isa Institute of TAFE   \n",
       "4  6.341466e+17  Southern Queensland Institute of TAFE   \n",
       "\n",
       "                   WorkArea  CESSATION YEAR Reason for ceasing employment  \\\n",
       "0  Non-Delivery (corporate)          2010.0              Contract Expired   \n",
       "1  Non-Delivery (corporate)          2010.0                    Retirement   \n",
       "2       Delivery (teaching)          2010.0                    Retirement   \n",
       "3  Non-Delivery (corporate)          2010.0                   Resignation   \n",
       "4       Delivery (teaching)          2010.0                   Resignation   \n",
       "\n",
       "  Contributing Factors. Career Move - Public Sector   \\\n",
       "0                                                NaN   \n",
       "1                                                  -   \n",
       "2                                                  -   \n",
       "3                                                  -   \n",
       "4                                                  -   \n",
       "\n",
       "  Contributing Factors. Career Move - Private Sector   \\\n",
       "0                                                NaN    \n",
       "1                                                  -    \n",
       "2                                                  -    \n",
       "3                                                  -    \n",
       "4                       Career Move - Private Sector    \n",
       "\n",
       "  Contributing Factors. Career Move - Self-employment  \\\n",
       "0                                                NaN    \n",
       "1                                                  -    \n",
       "2                                                  -    \n",
       "3                                                  -    \n",
       "4                                                  -    \n",
       "\n",
       "  Contributing Factors. Ill Health Contributing Factors. Maternity/Family  \\\n",
       "0                              NaN                                    NaN   \n",
       "1                                -                                      -   \n",
       "2                                -                                      -   \n",
       "3                                -                                      -   \n",
       "4                                -                                      -   \n",
       "\n",
       "   ...  \\\n",
       "0  ...   \n",
       "1  ...   \n",
       "2  ...   \n",
       "3  ...   \n",
       "4  ...   \n",
       "\n",
       "  Workplace. Topic:Does your workplace promote a work culture free from all forms of unlawful discrimination?  \\\n",
       "0                                                Yes                                                            \n",
       "1                                                Yes                                                            \n",
       "2                                                Yes                                                            \n",
       "3                                                Yes                                                            \n",
       "4                                                Yes                                                            \n",
       "\n",
       "  Workplace. Topic:Does your workplace promote and practice the principles of employment equity?  \\\n",
       "0                                                Yes                                               \n",
       "1                                                Yes                                               \n",
       "2                                                Yes                                               \n",
       "3                                                Yes                                               \n",
       "4                                                Yes                                               \n",
       "\n",
       "  Workplace. Topic:Does your workplace value the diversity of its employees?  \\\n",
       "0                                                Yes                           \n",
       "1                                                Yes                           \n",
       "2                                                Yes                           \n",
       "3                                                Yes                           \n",
       "4                                                Yes                           \n",
       "\n",
       "  Workplace. Topic:Would you recommend the Institute as an employer to others?  \\\n",
       "0                                                Yes                             \n",
       "1                                                Yes                             \n",
       "2                                                Yes                             \n",
       "3                                                Yes                             \n",
       "4                                                Yes                             \n",
       "\n",
       "  Gender. What is your Gender? CurrentAge. Current Age  \\\n",
       "0                       Female                  26  30   \n",
       "1                          NaN                     NaN   \n",
       "2                          NaN                     NaN   \n",
       "3                          NaN                     NaN   \n",
       "4                         Male                  41  45   \n",
       "\n",
       "  Employment Type. Employment Type Classification. Classification  \\\n",
       "0              Temporary Full-time            Administration (AO)   \n",
       "1                              NaN                            NaN   \n",
       "2                              NaN                            NaN   \n",
       "3                              NaN                            NaN   \n",
       "4              Permanent Full-time        Teacher (including LVT)   \n",
       "\n",
       "  LengthofServiceOverall. Overall Length of Service at Institute (in years)  \\\n",
       "0                                                1-2                          \n",
       "1                                                NaN                          \n",
       "2                                                NaN                          \n",
       "3                                                NaN                          \n",
       "4                                                3-4                          \n",
       "\n",
       "  LengthofServiceCurrent. Length of Service at current workplace (in years)  \n",
       "0                                                1-2                         \n",
       "1                                                NaN                         \n",
       "2                                                NaN                         \n",
       "3                                                NaN                         \n",
       "4                                                3-4                         \n",
       "\n",
       "[5 rows x 72 columns]"
      ]
     },
     "execution_count": 53,
     "metadata": {},
     "output_type": "execute_result"
    }
   ],
   "source": [
    "# explore first 5 rows\n",
    "tafe_survey.head()"
   ]
  },
  {
   "cell_type": "markdown",
   "metadata": {},
   "source": [
    "From our initial exploration, we can see that:\n",
    "- the `dete_survey` dataframe contains instances of the string `'Not Stated'` to indicate where a value is missing, however missing values should be represented as `NaN`\n",
    "- both `dete_survey` and `tafe_survey` contain many columns that we do not need to complete our analysis, and so can be dropped\n",
    "- both dataframes contain columns that are used to store the same information but under different names (e.g. `Cease Date` and `CESSATION YEAR`), we will need to ensure these columns have the exact same name before combining the dataframes\n",
    "- there are several columns that contain information around why an employee might resign\n",
    "\n",
    "## Data cleaning\n",
    "\n",
    "### NaN values and dropping columns"
   ]
  },
  {
   "cell_type": "code",
   "execution_count": 54,
   "metadata": {},
   "outputs": [],
   "source": [
    "# read DETE dataset again, this time utilising the na_values parameter\n",
    "dete_survey = pd.read_csv(\"dete_survey.csv\", na_values=\"Not Stated\")"
   ]
  },
  {
   "cell_type": "markdown",
   "metadata": {},
   "source": [
    "The above code will ensure that any missing values labelled as `Not Stated` will be imported as `NaN`.\n",
    "\n",
    "Let's drop columns from both dataframes that are not necessary for our analysis, this will make our data much more manageable and easier to work with."
   ]
  },
  {
   "cell_type": "code",
   "execution_count": 55,
   "metadata": {},
   "outputs": [],
   "source": [
    "# drop unneeded columns from DETE dataset\n",
    "dete_drop_cols = dete_survey.columns[28:49]\n",
    "dete_survey_updated = dete_survey.drop(columns=dete_drop_cols, axis=1)\n",
    "\n",
    "# drop unneeded columns from TAFE dataset\n",
    "tafe_drop_cols = tafe_survey.columns[17:66]\n",
    "tafe_survey_updated = tafe_survey.drop(columns=tafe_drop_cols, axis=1)"
   ]
  },
  {
   "cell_type": "markdown",
   "metadata": {},
   "source": [
    "### Standardising column names\n",
    "Below are some of the columns we'd like to use for our final analysis. Since we want to combine our dataframes, we will need to try and standardise the column names between the dataframes.\n",
    "\n",
    "| dete_survey      | tafe_survey |   Definition |\n",
    "| ----------- | ----------- | -------------- |\n",
    "|  ID | Record ID |  An id used to identify the participant of the survey      |\n",
    "| SeparationType |  Reason for ceasing employment  | The reason why the person's employment ended       |\n",
    "| Cease Date |  LengthofServiceOverall. Overall Length of Service at Institute (in years) |  The length of the person's employment (in years)       |\n",
    "| DETE Start Date |   |  \tThe year the participant began employment with the DETE       |\n",
    "| |  LengthofServiceOverall.Overall Length of Service at Institute (in years) |  \tThe length of the person's employment (in years)      |\n",
    "| Age |  CurrentAge.Current Age |  \tThe age of the participant      |\n",
    "| Gender |  Gender.What is your Gender? |  \tThe gender of the participant     |"
   ]
  },
  {
   "cell_type": "code",
   "execution_count": 56,
   "metadata": {
    "scrolled": true
   },
   "outputs": [
    {
     "name": "stdout",
     "output_type": "stream",
     "text": [
      "Index(['id', 'separationtype', 'cease_date', 'dete_start_date',\n",
      "       'role_start_date', 'position', 'classification', 'region',\n",
      "       'business_unit', 'employment_status', 'career_move_to_public_sector',\n",
      "       'career_move_to_private_sector', 'interpersonal_conflicts',\n",
      "       'job_dissatisfaction', 'dissatisfaction_with_the_department',\n",
      "       'physical_work_environment', 'lack_of_recognition',\n",
      "       'lack_of_job_security', 'work_location', 'employment_conditions',\n",
      "       'maternity/family', 'relocation', 'study/travel', 'ill_health',\n",
      "       'traumatic_incident', 'work_life_balance', 'workload',\n",
      "       'none_of_the_above', 'gender', 'age', 'aboriginal', 'torres_strait',\n",
      "       'south_sea', 'disability', 'nesb'],\n",
      "      dtype='object')\n"
     ]
    }
   ],
   "source": [
    "# standardise column names in DETE dataframe\n",
    "dete_survey_updated.columns = (dete_survey_updated.columns\n",
    "                                                       .str.lower()\n",
    "                                                       .str.strip()\n",
    "                                                       .str.replace(\" \", \"_\")\n",
    "                              )\n",
    "\n",
    "# verify updated column names\n",
    "print(dete_survey_updated.columns)"
   ]
  },
  {
   "cell_type": "code",
   "execution_count": 57,
   "metadata": {},
   "outputs": [
    {
     "name": "stdout",
     "output_type": "stream",
     "text": [
      "Index(['id', 'Institute', 'WorkArea', 'cease_date', 'separationtype',\n",
      "       'Contributing Factors. Career Move - Public Sector ',\n",
      "       'Contributing Factors. Career Move - Private Sector ',\n",
      "       'Contributing Factors. Career Move - Self-employment',\n",
      "       'Contributing Factors. Ill Health',\n",
      "       'Contributing Factors. Maternity/Family',\n",
      "       'Contributing Factors. Dissatisfaction',\n",
      "       'Contributing Factors. Job Dissatisfaction',\n",
      "       'Contributing Factors. Interpersonal Conflict',\n",
      "       'Contributing Factors. Study', 'Contributing Factors. Travel',\n",
      "       'Contributing Factors. Other', 'Contributing Factors. NONE', 'gender',\n",
      "       'age', 'employment_status', 'position', 'institute_service',\n",
      "       'role_service'],\n",
      "      dtype='object')\n"
     ]
    }
   ],
   "source": [
    "# rename columns in TAFE dataframe to match equivalents in the DETE dataframe\n",
    "# NOTE we will handle the remaining column names later\n",
    "col_map = {\n",
    "    'Record ID': 'id',\n",
    "    'CESSATION YEAR': 'cease_date',\n",
    "    'Reason for ceasing employment': 'separationtype',\n",
    "    'Gender. What is your Gender?': 'gender',\n",
    "    'CurrentAge. Current Age': 'age',\n",
    "    'Employment Type. Employment Type': 'employment_status',\n",
    "    'Classification. Classification': 'position',\n",
    "    'LengthofServiceOverall. Overall Length of Service at Institute (in years)': 'institute_service',\n",
    "    'LengthofServiceCurrent. Length of Service at current workplace (in years)': 'role_service'\n",
    "}\n",
    "\n",
    "tafe_survey_updated.rename(mapper=col_map, axis=1, inplace=True)\n",
    "\n",
    "# verify updated column names\n",
    "print(tafe_survey_updated.columns)"
   ]
  },
  {
   "cell_type": "markdown",
   "metadata": {},
   "source": [
    "### Removing more data\n",
    "If we recall the questions we are trying to answer:\n",
    "- are employees who only worked for the institutes for a short period of time resigning due to some kind of dissatisfaction? What about employees who have been there longer?\n",
    "- are younger employees resigning due to some kind of dissatisfaction? What about older employees?\n",
    "\n",
    "We are only interested in when an employee *resigns*. Let's take a look at the unique values in the `separationtype` column of the DETE dataset."
   ]
  },
  {
   "cell_type": "code",
   "execution_count": 58,
   "metadata": {},
   "outputs": [
    {
     "data": {
      "text/plain": [
       "Age Retirement                          285\n",
       "Resignation-Other reasons               150\n",
       "Resignation-Other employer               91\n",
       "Resignation-Move overseas/interstate     70\n",
       "Voluntary Early Retirement (VER)         67\n",
       "Ill Health Retirement                    61\n",
       "Other                                    49\n",
       "Contract Expired                         34\n",
       "Termination                              15\n",
       "Name: separationtype, dtype: int64"
      ]
     },
     "execution_count": 58,
     "metadata": {},
     "output_type": "execute_result"
    }
   ],
   "source": [
    "dete_survey_updated[\"separationtype\"].value_counts(dropna=False)"
   ]
  },
  {
   "cell_type": "markdown",
   "metadata": {},
   "source": [
    "We can see that there are only three values in the `separationtype` column that are necessary to our analysis:\n",
    "- `Resignation-Other reasons`\n",
    "- `Resignation-Other employer`\n",
    "- `Resignation-Move overseas/interstate`\n",
    "\n",
    "Therefore we can discard any rows that do not contain the the string `'Resignation'`."
   ]
  },
  {
   "cell_type": "code",
   "execution_count": 59,
   "metadata": {},
   "outputs": [
    {
     "data": {
      "text/plain": [
       "Resignation-Other reasons               150\n",
       "Resignation-Other employer               91\n",
       "Resignation-Move overseas/interstate     70\n",
       "Name: separationtype, dtype: int64"
      ]
     },
     "execution_count": 59,
     "metadata": {},
     "output_type": "execute_result"
    }
   ],
   "source": [
    "# bool mask for any string containing 'Resignation'\n",
    "bool_mask = dete_survey_updated[\"separationtype\"].str.contains(\"Resignation\", na=False)\n",
    "\n",
    "# apply mask to dataframe, ensuring a copy is created to avoid SettingWithCopy warning\n",
    "dete_resignations = dete_survey_updated.loc[bool_mask].copy()\n",
    "\n",
    "# verify changes\n",
    "dete_resignations[\"separationtype\"].value_counts()"
   ]
  },
  {
   "cell_type": "markdown",
   "metadata": {},
   "source": [
    "Let's try the same thing with the TAFE dataset."
   ]
  },
  {
   "cell_type": "code",
   "execution_count": 60,
   "metadata": {},
   "outputs": [
    {
     "data": {
      "text/plain": [
       "Resignation                 340\n",
       "Contract Expired            127\n",
       "Retrenchment/ Redundancy    104\n",
       "Retirement                   82\n",
       "Transfer                     25\n",
       "Termination                  23\n",
       "NaN                           1\n",
       "Name: separationtype, dtype: int64"
      ]
     },
     "execution_count": 60,
     "metadata": {},
     "output_type": "execute_result"
    }
   ],
   "source": [
    "# identify unique values in column\n",
    "tafe_survey_updated[\"separationtype\"].value_counts(dropna=False)"
   ]
  },
  {
   "cell_type": "markdown",
   "metadata": {},
   "source": [
    "We can see that there is one `NaN` value in the column. Since we have no way of knowing if this employee resigned or not, we will set the `na` parameter of `.str.contains()` to `False`, so that when we apply the mask to create our new dataframe it will be excluded."
   ]
  },
  {
   "cell_type": "code",
   "execution_count": 61,
   "metadata": {},
   "outputs": [
    {
     "data": {
      "text/plain": [
       "Resignation    340\n",
       "Name: separationtype, dtype: int64"
      ]
     },
     "execution_count": 61,
     "metadata": {},
     "output_type": "execute_result"
    }
   ],
   "source": [
    "# we can use the same boolean mask as before\n",
    "bool_mask = tafe_survey_updated[\"separationtype\"].str.contains(\"Resignation\", na=False)\n",
    "\n",
    "# apply mask to dataframe, ensuring a copy is created to avoid SettingWithCopy warning\n",
    "tafe_resignations = tafe_survey_updated.loc[bool_mask].copy()\n",
    "\n",
    "# verify changes\n",
    "tafe_resignations[\"separationtype\"].value_counts()"
   ]
  },
  {
   "cell_type": "markdown",
   "metadata": {},
   "source": [
    "### Cleaning date information\n",
    "\n",
    "We need to check that our data doesn't contain any major inconsistencies. Let's focus on veryfying the years in the `cease_date` and `dete_start_date` columns to ensure they make sense.\n",
    "\n",
    "Since the `cease_date` is the last year of the person's employment and the `dete_start_date` is the person's first year of employment, it wouldn't make sense to have years after the current date.\n",
    "\n",
    "Given that most people in this field start working in their 20s, it's also unlikely that the `dete_start_date` was before the year 1940.\n",
    "\n",
    "#### DETE dataset\n",
    "Let's focus on verifying that the years in the `cease_date` and `dete_start_date` columns make sense."
   ]
  },
  {
   "cell_type": "code",
   "execution_count": 62,
   "metadata": {},
   "outputs": [
    {
     "data": {
      "text/plain": [
       "01/2014     22\n",
       "05/2012      2\n",
       "05/2013      2\n",
       "06/2013     14\n",
       "07/2006      1\n",
       "07/2012      1\n",
       "07/2013      9\n",
       "08/2013      4\n",
       "09/2010      1\n",
       "09/2013     11\n",
       "10/2013      6\n",
       "11/2013      9\n",
       "12/2013     17\n",
       "2010         1\n",
       "2012       126\n",
       "2013        74\n",
       "Name: cease_date, dtype: int64"
      ]
     },
     "execution_count": 62,
     "metadata": {},
     "output_type": "execute_result"
    }
   ],
   "source": [
    "# check the unique values in the cease_date column\n",
    "dete_resignations[\"cease_date\"].value_counts().sort_index(ascending=True)"
   ]
  },
  {
   "cell_type": "markdown",
   "metadata": {},
   "source": [
    "We don't really have any need to keep the month of resignation so we can strip that out leaving just the year."
   ]
  },
  {
   "cell_type": "code",
   "execution_count": 63,
   "metadata": {},
   "outputs": [
    {
     "name": "stdout",
     "output_type": "stream",
     "text": [
      "2013.0    146\n",
      "2012.0    129\n",
      "2014.0     22\n",
      "2010.0      2\n",
      "2006.0      1\n",
      "Name: cease_date, dtype: int64\n"
     ]
    }
   ],
   "source": [
    "# create a copy to work on\n",
    "cease_date_copy = dete_resignations[\"cease_date\"].copy()\n",
    "\n",
    "# remove any month digits and forward slash\n",
    "clean_cease_date = cease_date_copy.str.replace(r'([0-1][0-9]\\/)', \"\")\n",
    "\n",
    "# convert values from string to float\n",
    "clean_cease_date = clean_cease_date.astype(float)\n",
    "\n",
    "# verify column\n",
    "print(clean_cease_date.value_counts())\n",
    "\n",
    "# assign back to original column\n",
    "dete_resignations[\"cease_date\"] = clean_cease_date"
   ]
  },
  {
   "cell_type": "code",
   "execution_count": 64,
   "metadata": {},
   "outputs": [
    {
     "name": "stdout",
     "output_type": "stream",
     "text": [
      "1963.0     1\n",
      "1971.0     1\n",
      "1972.0     1\n",
      "1973.0     1\n",
      "1974.0     2\n",
      "1975.0     1\n",
      "1976.0     2\n",
      "1977.0     1\n",
      "1980.0     5\n",
      "1982.0     1\n",
      "1983.0     2\n",
      "1984.0     1\n",
      "1985.0     3\n",
      "1986.0     3\n",
      "1987.0     1\n",
      "1988.0     4\n",
      "1989.0     4\n",
      "1990.0     5\n",
      "1991.0     4\n",
      "1992.0     6\n",
      "1993.0     5\n",
      "1994.0     6\n",
      "1995.0     4\n",
      "1996.0     6\n",
      "1997.0     5\n",
      "1998.0     6\n",
      "1999.0     8\n",
      "2000.0     9\n",
      "2001.0     3\n",
      "2002.0     6\n",
      "2003.0     6\n",
      "2004.0    14\n",
      "2005.0    15\n",
      "2006.0    13\n",
      "2007.0    21\n",
      "2008.0    22\n",
      "2009.0    13\n",
      "2010.0    17\n",
      "2011.0    24\n",
      "2012.0    21\n",
      "2013.0    10\n",
      "NaN       28\n",
      "Name: dete_start_date, dtype: int64\n"
     ]
    },
    {
     "data": {
      "text/plain": [
       "<matplotlib.axes._subplots.AxesSubplot at 0x7f3f344918b0>"
      ]
     },
     "execution_count": 64,
     "metadata": {},
     "output_type": "execute_result"
    },
    {
     "data": {
      "image/png": "[encoded data removed]",
      "text/plain": [
       "<Figure size 600x400 with 1 Axes>"
      ]
     },
     "metadata": {},
     "output_type": "display_data"
    }
   ],
   "source": [
    "print(dete_resignations[\"dete_start_date\"].value_counts(dropna=False).sort_index(ascending=True))\n",
    "dete_resignations.boxplot(\"dete_start_date\")"
   ]
  },
  {
   "cell_type": "markdown",
   "metadata": {},
   "source": [
    "The data in the `dete_start_date` column looks fine, no need to make any modifications.\n",
    "\n",
    "#### TAFE dataset\n",
    "We only have one date column in the TAFE dataset, `cease_date`. Let's take a look."
   ]
  },
  {
   "cell_type": "code",
   "execution_count": 65,
   "metadata": {},
   "outputs": [
    {
     "data": {
      "text/plain": [
       "2009.0      2\n",
       "2010.0     68\n",
       "2011.0    116\n",
       "2012.0     94\n",
       "2013.0     55\n",
       "Name: cease_date, dtype: int64"
      ]
     },
     "execution_count": 65,
     "metadata": {},
     "output_type": "execute_result"
    }
   ],
   "source": [
    "tafe_resignations[\"cease_date\"].value_counts().sort_index(ascending=True)"
   ]
  },
  {
   "cell_type": "code",
   "execution_count": 66,
   "metadata": {},
   "outputs": [
    {
     "data": {
      "text/plain": [
       "<matplotlib.axes._subplots.AxesSubplot at 0x7f3f319f77c0>"
      ]
     },
     "execution_count": 66,
     "metadata": {},
     "output_type": "execute_result"
    },
    {
     "data": {
      "image/png": "[encoded data removed]",
      "text/plain": [
       "<Figure size 600x400 with 1 Axes>"
      ]
     },
     "metadata": {},
     "output_type": "display_data"
    }
   ],
   "source": [
    "tafe_resignations.boxplot(\"cease_date\")"
   ]
  },
  {
   "cell_type": "markdown",
   "metadata": {},
   "source": [
    "There doesn't appear to be any issues with the data in the `cease_date` column of the `tafe_resignations` dataframe. One thing to note though is that the years in each dataframe don't quite span the same number of years.\n",
    "\n",
    "### Determine length of service\n",
    "In the `tafe_resignations` dataframe we have a column called `institute_service` which indicates the length of time an employee worked at the TAFE institute. The `dete_resignation` dataframe does not have such a column, so we will need to create one as this information is essential to answer the question:\n",
    "- Are employees who have only worked for the institutes for a short period of time resigning due to some kind of dissatisfaction? What about employees who have been at the job longer?"
   ]
  },
  {
   "cell_type": "code",
   "execution_count": 67,
   "metadata": {},
   "outputs": [
    {
     "data": {
      "text/html": [
       "<div>\n",
       "<style scoped>\n",
       "    .dataframe tbody tr th:only-of-type {\n",
       "        vertical-align: middle;\n",
       "    }\n",
       "\n",
       "    .dataframe tbody tr th {\n",
       "        vertical-align: top;\n",
       "    }\n",
       "\n",
       "    .dataframe thead th {\n",
       "        text-align: right;\n",
       "    }\n",
       "</style>\n",
       "<table border=\"1\" class=\"dataframe\">\n",
       "  <thead>\n",
       "    <tr style=\"text-align: right;\">\n",
       "      <th></th>\n",
       "      <th>dete_start_date</th>\n",
       "      <th>cease_date</th>\n",
       "      <th>institute_service</th>\n",
       "    </tr>\n",
       "  </thead>\n",
       "  <tbody>\n",
       "    <tr>\n",
       "      <th>3</th>\n",
       "      <td>2005.0</td>\n",
       "      <td>2012.0</td>\n",
       "      <td>7.0</td>\n",
       "    </tr>\n",
       "    <tr>\n",
       "      <th>5</th>\n",
       "      <td>1994.0</td>\n",
       "      <td>2012.0</td>\n",
       "      <td>18.0</td>\n",
       "    </tr>\n",
       "    <tr>\n",
       "      <th>8</th>\n",
       "      <td>2009.0</td>\n",
       "      <td>2012.0</td>\n",
       "      <td>3.0</td>\n",
       "    </tr>\n",
       "    <tr>\n",
       "      <th>9</th>\n",
       "      <td>1997.0</td>\n",
       "      <td>2012.0</td>\n",
       "      <td>15.0</td>\n",
       "    </tr>\n",
       "    <tr>\n",
       "      <th>11</th>\n",
       "      <td>2009.0</td>\n",
       "      <td>2012.0</td>\n",
       "      <td>3.0</td>\n",
       "    </tr>\n",
       "  </tbody>\n",
       "</table>\n",
       "</div>"
      ],
      "text/plain": [
       "    dete_start_date  cease_date  institute_service\n",
       "3            2005.0      2012.0                7.0\n",
       "5            1994.0      2012.0               18.0\n",
       "8            2009.0      2012.0                3.0\n",
       "9            1997.0      2012.0               15.0\n",
       "11           2009.0      2012.0                3.0"
      ]
     },
     "execution_count": 67,
     "metadata": {},
     "output_type": "execute_result"
    }
   ],
   "source": [
    "# calculate length of service and store data in a new column with matching name\n",
    "dete_resignations[\"institute_service\"] = dete_resignations[\"cease_date\"] - dete_resignations[\"dete_start_date\"]\n",
    "\n",
    "# check first 5 rows\n",
    "dete_resignations[[\"dete_start_date\", \"cease_date\", \"institute_service\"]].head()"
   ]
  },
  {
   "cell_type": "markdown",
   "metadata": {},
   "source": [
    "Looks like our new `institute_service` column has functioned as intended.\n",
    "\n",
    "### Identify dissatisfied employees\n",
    "\n",
    "Now it's time to identify any employees who resigned due to dissatisfaction. We will use the following columns from each dataframe to do this:\n",
    "\n",
    "**`tafe_resignations`**\n",
    "- `Contributing Factors. Dissatisfaction`\n",
    "- `Contributing Factors. Job Dissatisfaction`\n",
    "\n",
    "**`dete_survey_updated`**\n",
    "- `job_dissatisfaction`\n",
    "- `dissatisfaction_with_the_department`\n",
    "- `physical_work_environment`\n",
    "- `lack_of_recognition`\n",
    "- `lack_of_job_security`\n",
    "- `work_location`\n",
    "- `employment_conditions`\n",
    "- `work_life_balance`\n",
    "- `workload`\n",
    "\n",
    "If any employees indicated any of the factors above caused them to resign, we'll mark them as `True` in a new column called `dissatisfied`.\n",
    "\n",
    "We'll start with the `tafe_resignations` dataframe as there are fewer columns to deal with.\n",
    "\n",
    "#### TAFE dataset"
   ]
  },
  {
   "cell_type": "code",
   "execution_count": 68,
   "metadata": {},
   "outputs": [
    {
     "name": "stdout",
     "output_type": "stream",
     "text": [
      "-                                         277\n",
      "Contributing Factors. Dissatisfaction      55\n",
      "NaN                                         8\n",
      "Name: Contributing Factors. Dissatisfaction, dtype: int64 \n",
      "\n",
      "-                      270\n",
      "Job Dissatisfaction     62\n",
      "NaN                      8\n",
      "Name: Contributing Factors. Job Dissatisfaction, dtype: int64\n"
     ]
    }
   ],
   "source": [
    "# inspect values in each column (including any null values)\n",
    "print(tafe_resignations['Contributing Factors. Dissatisfaction'].value_counts(dropna=False), \"\\n\")\n",
    "\n",
    "print(tafe_resignations['Contributing Factors. Job Dissatisfaction'].value_counts(dropna=False))"
   ]
  },
  {
   "cell_type": "markdown",
   "metadata": {},
   "source": [
    "It looks like `-` represents where dissatisfaction was not the reason for unemployment, while the name of the column itself has been used as the value to represent that the employee was dissastified. We can see that `NaN` values are also present in both columns.\n",
    "\n",
    "Let's update these values to:\n",
    "- `True` when the employee was dissastified\n",
    "- `False` when the employee was not dissastified\n",
    "- `NaN` if the value is `NaN`"
   ]
  },
  {
   "cell_type": "code",
   "execution_count": 69,
   "metadata": {
    "scrolled": false
   },
   "outputs": [
    {
     "name": "stdout",
     "output_type": "stream",
     "text": [
      "False    277\n",
      "True      55\n",
      "NaN        8\n",
      "Name: Contributing Factors. Dissatisfaction, dtype: int64 \n",
      "\n",
      "False    270\n",
      "True      62\n",
      "NaN        8\n",
      "Name: Contributing Factors. Job Dissatisfaction, dtype: int64\n"
     ]
    }
   ],
   "source": [
    "# create function to update the column values as specified above\n",
    "def update_vals(value):\n",
    "    if pd.isnull(value):\n",
    "        return np.nan\n",
    "    elif value == \"-\":\n",
    "        return False\n",
    "    return True\n",
    "\n",
    "# list of columns we want to apply the function to\n",
    "cols = [\"Contributing Factors. Dissatisfaction\", \"Contributing Factors. Job Dissatisfaction\"]\n",
    "\n",
    "# apply the function elementwise to both columns and assign transformations back to the respective columns\n",
    "tafe_resignations[cols] = tafe_resignations[cols].applymap(update_vals)\n",
    "\n",
    "# inspect both columns again\n",
    "print(tafe_resignations['Contributing Factors. Dissatisfaction'].value_counts(dropna=False), \"\\n\")\n",
    "print(tafe_resignations['Contributing Factors. Job Dissatisfaction'].value_counts(dropna=False))"
   ]
  },
  {
   "cell_type": "markdown",
   "metadata": {},
   "source": [
    "Looks like our function worked as expected. Now that the column values have been updated, we can create the `dissastisfied` column and use the method `df.any()` to apply a value to the column. `df.any()` will do the following:\n",
    "\n",
    "- Return `True` if any element in the selected columns above is `True`\n",
    "- Return `False` if none of the elements in the selected columns above is `True`\n",
    "- Return `NaN` if the value is `NaN`"
   ]
  },
  {
   "cell_type": "code",
   "execution_count": 70,
   "metadata": {},
   "outputs": [
    {
     "data": {
      "text/html": [
       "<div>\n",
       "<style scoped>\n",
       "    .dataframe tbody tr th:only-of-type {\n",
       "        vertical-align: middle;\n",
       "    }\n",
       "\n",
       "    .dataframe tbody tr th {\n",
       "        vertical-align: top;\n",
       "    }\n",
       "\n",
       "    .dataframe thead th {\n",
       "        text-align: right;\n",
       "    }\n",
       "</style>\n",
       "<table border=\"1\" class=\"dataframe\">\n",
       "  <thead>\n",
       "    <tr style=\"text-align: right;\">\n",
       "      <th></th>\n",
       "      <th>Contributing Factors. Dissatisfaction</th>\n",
       "      <th>Contributing Factors. Job Dissatisfaction</th>\n",
       "      <th>dissatisfied</th>\n",
       "    </tr>\n",
       "  </thead>\n",
       "  <tbody>\n",
       "    <tr>\n",
       "      <th>3</th>\n",
       "      <td>False</td>\n",
       "      <td>False</td>\n",
       "      <td>False</td>\n",
       "    </tr>\n",
       "    <tr>\n",
       "      <th>4</th>\n",
       "      <td>False</td>\n",
       "      <td>False</td>\n",
       "      <td>False</td>\n",
       "    </tr>\n",
       "    <tr>\n",
       "      <th>5</th>\n",
       "      <td>False</td>\n",
       "      <td>False</td>\n",
       "      <td>False</td>\n",
       "    </tr>\n",
       "    <tr>\n",
       "      <th>6</th>\n",
       "      <td>False</td>\n",
       "      <td>False</td>\n",
       "      <td>False</td>\n",
       "    </tr>\n",
       "    <tr>\n",
       "      <th>7</th>\n",
       "      <td>False</td>\n",
       "      <td>False</td>\n",
       "      <td>False</td>\n",
       "    </tr>\n",
       "    <tr>\n",
       "      <th>8</th>\n",
       "      <td>False</td>\n",
       "      <td>False</td>\n",
       "      <td>False</td>\n",
       "    </tr>\n",
       "    <tr>\n",
       "      <th>9</th>\n",
       "      <td>False</td>\n",
       "      <td>False</td>\n",
       "      <td>False</td>\n",
       "    </tr>\n",
       "    <tr>\n",
       "      <th>10</th>\n",
       "      <td>False</td>\n",
       "      <td>False</td>\n",
       "      <td>False</td>\n",
       "    </tr>\n",
       "    <tr>\n",
       "      <th>13</th>\n",
       "      <td>False</td>\n",
       "      <td>False</td>\n",
       "      <td>False</td>\n",
       "    </tr>\n",
       "    <tr>\n",
       "      <th>14</th>\n",
       "      <td>True</td>\n",
       "      <td>True</td>\n",
       "      <td>True</td>\n",
       "    </tr>\n",
       "    <tr>\n",
       "      <th>15</th>\n",
       "      <td>False</td>\n",
       "      <td>False</td>\n",
       "      <td>False</td>\n",
       "    </tr>\n",
       "    <tr>\n",
       "      <th>16</th>\n",
       "      <td>NaN</td>\n",
       "      <td>NaN</td>\n",
       "      <td>NaN</td>\n",
       "    </tr>\n",
       "    <tr>\n",
       "      <th>17</th>\n",
       "      <td>False</td>\n",
       "      <td>True</td>\n",
       "      <td>True</td>\n",
       "    </tr>\n",
       "    <tr>\n",
       "      <th>18</th>\n",
       "      <td>NaN</td>\n",
       "      <td>NaN</td>\n",
       "      <td>NaN</td>\n",
       "    </tr>\n",
       "    <tr>\n",
       "      <th>19</th>\n",
       "      <td>False</td>\n",
       "      <td>False</td>\n",
       "      <td>False</td>\n",
       "    </tr>\n",
       "  </tbody>\n",
       "</table>\n",
       "</div>"
      ],
      "text/plain": [
       "   Contributing Factors. Dissatisfaction  \\\n",
       "3                                  False   \n",
       "4                                  False   \n",
       "5                                  False   \n",
       "6                                  False   \n",
       "7                                  False   \n",
       "8                                  False   \n",
       "9                                  False   \n",
       "10                                 False   \n",
       "13                                 False   \n",
       "14                                  True   \n",
       "15                                 False   \n",
       "16                                   NaN   \n",
       "17                                 False   \n",
       "18                                   NaN   \n",
       "19                                 False   \n",
       "\n",
       "   Contributing Factors. Job Dissatisfaction dissatisfied  \n",
       "3                                      False        False  \n",
       "4                                      False        False  \n",
       "5                                      False        False  \n",
       "6                                      False        False  \n",
       "7                                      False        False  \n",
       "8                                      False        False  \n",
       "9                                      False        False  \n",
       "10                                     False        False  \n",
       "13                                     False        False  \n",
       "14                                      True         True  \n",
       "15                                     False        False  \n",
       "16                                       NaN          NaN  \n",
       "17                                      True         True  \n",
       "18                                       NaN          NaN  \n",
       "19                                     False        False  "
      ]
     },
     "execution_count": 70,
     "metadata": {},
     "output_type": "execute_result"
    }
   ],
   "source": [
    "# select columns in tafe_resignations that may indicate employee disatisfaction\n",
    "cols = [\n",
    "    \"Contributing Factors. Dissatisfaction\", \n",
    "    \"Contributing Factors. Job Dissatisfaction\",\n",
    "]\n",
    "\n",
    "# use df.any() to identify if any of these columns contain 'True' and assign this to new column\n",
    "tafe_resignations[\"dissatisfied\"] = tafe_resignations[cols].any(axis=1, skipna=False)\n",
    "\n",
    "# sense check the new column\n",
    "cols.append(\"dissatisfied\")\n",
    "tafe_resignations[cols].head(15)"
   ]
  },
  {
   "cell_type": "markdown",
   "metadata": {},
   "source": [
    "Looks like that worked, the `dissatisfied` column contains `True` if either of the other two columns contain `True`. Now let's attempt the same process for the `dete_resignations` dataframe.\n",
    "\n",
    "#### DETE dataset"
   ]
  },
  {
   "cell_type": "code",
   "execution_count": 71,
   "metadata": {},
   "outputs": [
    {
     "data": {
      "text/html": [
       "<div>\n",
       "<style scoped>\n",
       "    .dataframe tbody tr th:only-of-type {\n",
       "        vertical-align: middle;\n",
       "    }\n",
       "\n",
       "    .dataframe tbody tr th {\n",
       "        vertical-align: top;\n",
       "    }\n",
       "\n",
       "    .dataframe thead th {\n",
       "        text-align: right;\n",
       "    }\n",
       "</style>\n",
       "<table border=\"1\" class=\"dataframe\">\n",
       "  <thead>\n",
       "    <tr style=\"text-align: right;\">\n",
       "      <th></th>\n",
       "      <th>job_dissatisfaction</th>\n",
       "      <th>dissatisfaction_with_the_department</th>\n",
       "      <th>physical_work_environment</th>\n",
       "      <th>lack_of_recognition</th>\n",
       "      <th>lack_of_job_security</th>\n",
       "      <th>work_location</th>\n",
       "      <th>employment_conditions</th>\n",
       "      <th>work_life_balance</th>\n",
       "      <th>workload</th>\n",
       "      <th>dissatisfied</th>\n",
       "    </tr>\n",
       "  </thead>\n",
       "  <tbody>\n",
       "    <tr>\n",
       "      <th>3</th>\n",
       "      <td>False</td>\n",
       "      <td>False</td>\n",
       "      <td>False</td>\n",
       "      <td>False</td>\n",
       "      <td>False</td>\n",
       "      <td>False</td>\n",
       "      <td>False</td>\n",
       "      <td>False</td>\n",
       "      <td>False</td>\n",
       "      <td>False</td>\n",
       "    </tr>\n",
       "    <tr>\n",
       "      <th>5</th>\n",
       "      <td>False</td>\n",
       "      <td>False</td>\n",
       "      <td>False</td>\n",
       "      <td>False</td>\n",
       "      <td>False</td>\n",
       "      <td>False</td>\n",
       "      <td>True</td>\n",
       "      <td>False</td>\n",
       "      <td>False</td>\n",
       "      <td>True</td>\n",
       "    </tr>\n",
       "    <tr>\n",
       "      <th>8</th>\n",
       "      <td>False</td>\n",
       "      <td>False</td>\n",
       "      <td>False</td>\n",
       "      <td>False</td>\n",
       "      <td>False</td>\n",
       "      <td>False</td>\n",
       "      <td>False</td>\n",
       "      <td>False</td>\n",
       "      <td>False</td>\n",
       "      <td>False</td>\n",
       "    </tr>\n",
       "    <tr>\n",
       "      <th>9</th>\n",
       "      <td>True</td>\n",
       "      <td>True</td>\n",
       "      <td>False</td>\n",
       "      <td>False</td>\n",
       "      <td>False</td>\n",
       "      <td>False</td>\n",
       "      <td>False</td>\n",
       "      <td>False</td>\n",
       "      <td>False</td>\n",
       "      <td>True</td>\n",
       "    </tr>\n",
       "    <tr>\n",
       "      <th>11</th>\n",
       "      <td>False</td>\n",
       "      <td>False</td>\n",
       "      <td>False</td>\n",
       "      <td>False</td>\n",
       "      <td>False</td>\n",
       "      <td>False</td>\n",
       "      <td>False</td>\n",
       "      <td>False</td>\n",
       "      <td>False</td>\n",
       "      <td>False</td>\n",
       "    </tr>\n",
       "    <tr>\n",
       "      <th>12</th>\n",
       "      <td>False</td>\n",
       "      <td>False</td>\n",
       "      <td>False</td>\n",
       "      <td>False</td>\n",
       "      <td>False</td>\n",
       "      <td>False</td>\n",
       "      <td>False</td>\n",
       "      <td>False</td>\n",
       "      <td>False</td>\n",
       "      <td>False</td>\n",
       "    </tr>\n",
       "    <tr>\n",
       "      <th>14</th>\n",
       "      <td>True</td>\n",
       "      <td>True</td>\n",
       "      <td>False</td>\n",
       "      <td>False</td>\n",
       "      <td>False</td>\n",
       "      <td>False</td>\n",
       "      <td>False</td>\n",
       "      <td>False</td>\n",
       "      <td>False</td>\n",
       "      <td>True</td>\n",
       "    </tr>\n",
       "    <tr>\n",
       "      <th>16</th>\n",
       "      <td>False</td>\n",
       "      <td>False</td>\n",
       "      <td>False</td>\n",
       "      <td>True</td>\n",
       "      <td>False</td>\n",
       "      <td>False</td>\n",
       "      <td>False</td>\n",
       "      <td>False</td>\n",
       "      <td>False</td>\n",
       "      <td>True</td>\n",
       "    </tr>\n",
       "    <tr>\n",
       "      <th>20</th>\n",
       "      <td>False</td>\n",
       "      <td>False</td>\n",
       "      <td>False</td>\n",
       "      <td>False</td>\n",
       "      <td>False</td>\n",
       "      <td>False</td>\n",
       "      <td>False</td>\n",
       "      <td>False</td>\n",
       "      <td>False</td>\n",
       "      <td>False</td>\n",
       "    </tr>\n",
       "    <tr>\n",
       "      <th>21</th>\n",
       "      <td>False</td>\n",
       "      <td>False</td>\n",
       "      <td>False</td>\n",
       "      <td>False</td>\n",
       "      <td>False</td>\n",
       "      <td>False</td>\n",
       "      <td>False</td>\n",
       "      <td>False</td>\n",
       "      <td>False</td>\n",
       "      <td>False</td>\n",
       "    </tr>\n",
       "    <tr>\n",
       "      <th>22</th>\n",
       "      <td>False</td>\n",
       "      <td>True</td>\n",
       "      <td>False</td>\n",
       "      <td>True</td>\n",
       "      <td>False</td>\n",
       "      <td>False</td>\n",
       "      <td>False</td>\n",
       "      <td>True</td>\n",
       "      <td>False</td>\n",
       "      <td>True</td>\n",
       "    </tr>\n",
       "    <tr>\n",
       "      <th>23</th>\n",
       "      <td>True</td>\n",
       "      <td>False</td>\n",
       "      <td>False</td>\n",
       "      <td>False</td>\n",
       "      <td>False</td>\n",
       "      <td>True</td>\n",
       "      <td>False</td>\n",
       "      <td>True</td>\n",
       "      <td>False</td>\n",
       "      <td>True</td>\n",
       "    </tr>\n",
       "    <tr>\n",
       "      <th>25</th>\n",
       "      <td>False</td>\n",
       "      <td>False</td>\n",
       "      <td>False</td>\n",
       "      <td>False</td>\n",
       "      <td>False</td>\n",
       "      <td>False</td>\n",
       "      <td>False</td>\n",
       "      <td>True</td>\n",
       "      <td>False</td>\n",
       "      <td>True</td>\n",
       "    </tr>\n",
       "    <tr>\n",
       "      <th>27</th>\n",
       "      <td>False</td>\n",
       "      <td>False</td>\n",
       "      <td>False</td>\n",
       "      <td>False</td>\n",
       "      <td>False</td>\n",
       "      <td>False</td>\n",
       "      <td>False</td>\n",
       "      <td>False</td>\n",
       "      <td>False</td>\n",
       "      <td>False</td>\n",
       "    </tr>\n",
       "    <tr>\n",
       "      <th>33</th>\n",
       "      <td>False</td>\n",
       "      <td>False</td>\n",
       "      <td>False</td>\n",
       "      <td>True</td>\n",
       "      <td>False</td>\n",
       "      <td>False</td>\n",
       "      <td>False</td>\n",
       "      <td>False</td>\n",
       "      <td>False</td>\n",
       "      <td>True</td>\n",
       "    </tr>\n",
       "  </tbody>\n",
       "</table>\n",
       "</div>"
      ],
      "text/plain": [
       "    job_dissatisfaction  dissatisfaction_with_the_department  \\\n",
       "3                 False                                False   \n",
       "5                 False                                False   \n",
       "8                 False                                False   \n",
       "9                  True                                 True   \n",
       "11                False                                False   \n",
       "12                False                                False   \n",
       "14                 True                                 True   \n",
       "16                False                                False   \n",
       "20                False                                False   \n",
       "21                False                                False   \n",
       "22                False                                 True   \n",
       "23                 True                                False   \n",
       "25                False                                False   \n",
       "27                False                                False   \n",
       "33                False                                False   \n",
       "\n",
       "    physical_work_environment  lack_of_recognition  lack_of_job_security  \\\n",
       "3                       False                False                 False   \n",
       "5                       False                False                 False   \n",
       "8                       False                False                 False   \n",
       "9                       False                False                 False   \n",
       "11                      False                False                 False   \n",
       "12                      False                False                 False   \n",
       "14                      False                False                 False   \n",
       "16                      False                 True                 False   \n",
       "20                      False                False                 False   \n",
       "21                      False                False                 False   \n",
       "22                      False                 True                 False   \n",
       "23                      False                False                 False   \n",
       "25                      False                False                 False   \n",
       "27                      False                False                 False   \n",
       "33                      False                 True                 False   \n",
       "\n",
       "    work_location  employment_conditions  work_life_balance  workload  \\\n",
       "3           False                  False              False     False   \n",
       "5           False                   True              False     False   \n",
       "8           False                  False              False     False   \n",
       "9           False                  False              False     False   \n",
       "11          False                  False              False     False   \n",
       "12          False                  False              False     False   \n",
       "14          False                  False              False     False   \n",
       "16          False                  False              False     False   \n",
       "20          False                  False              False     False   \n",
       "21          False                  False              False     False   \n",
       "22          False                  False               True     False   \n",
       "23           True                  False               True     False   \n",
       "25          False                  False               True     False   \n",
       "27          False                  False              False     False   \n",
       "33          False                  False              False     False   \n",
       "\n",
       "    dissatisfied  \n",
       "3          False  \n",
       "5           True  \n",
       "8          False  \n",
       "9           True  \n",
       "11         False  \n",
       "12         False  \n",
       "14          True  \n",
       "16          True  \n",
       "20         False  \n",
       "21         False  \n",
       "22          True  \n",
       "23          True  \n",
       "25          True  \n",
       "27         False  \n",
       "33          True  "
      ]
     },
     "execution_count": 71,
     "metadata": {},
     "output_type": "execute_result"
    }
   ],
   "source": [
    "# select columns in dete_resignations that may indicate employee disatisfaction\n",
    "cols = [\n",
    "    \"job_dissatisfaction\",\n",
    "    \"dissatisfaction_with_the_department\",\n",
    "    \"physical_work_environment\",\n",
    "    \"lack_of_recognition\",\n",
    "    \"lack_of_job_security\",\n",
    "    \"work_location\",\n",
    "    \"employment_conditions\",\n",
    "    \"work_life_balance\",\n",
    "    \"workload\"\n",
    "]\n",
    "\n",
    "# use df.any() to identify if any of these columns contain 'True' and assign this to new column \n",
    "dete_resignations[\"dissatisfied\"] = dete_resignations[cols].any(axis=1, skipna=False)\n",
    "\n",
    "# sense check the new column\n",
    "cols.append(\"dissatisfied\")\n",
    "dete_resignations[cols].head(15)"
   ]
  },
  {
   "cell_type": "markdown",
   "metadata": {},
   "source": [
    "Now we have a functional `dissatisfied` column in the DETE dataset too. We're ready to combine our dataframes."
   ]
  },
  {
   "cell_type": "markdown",
   "metadata": {},
   "source": [
    "### Combining dataframes"
   ]
  },
  {
   "cell_type": "code",
   "execution_count": 72,
   "metadata": {},
   "outputs": [
    {
     "name": "stdout",
     "output_type": "stream",
     "text": [
      "Combined shape: (651, 53)\n"
     ]
    }
   ],
   "source": [
    "# create a copy of the results for both datasets and assign to a new variable\n",
    "# this will avoid a potential SettingWithCopy warning\n",
    "tafe_resignations_up = tafe_resignations.copy()\n",
    "dete_resignations_up = dete_resignations.copy()\n",
    "\n",
    "# create new column in each dataframe to indiciate the institute\n",
    "# this will make it easy to distinguish between the two datasets after combining\n",
    "tafe_resignations_up[\"institute\"] = \"TAFE\"\n",
    "dete_resignations_up[\"institute\"] = \"DETE\"\n",
    "\n",
    "# combine dataframes vertically using pd.concat() function\n",
    "combined = pd.concat([tafe_resignations_up, dete_resignations_up], ignore_index=True)\n",
    "\n",
    "# identify shape of combined dataframe for reference\n",
    "print(\"Combined shape:\", combined.shape)"
   ]
  },
  {
   "cell_type": "markdown",
   "metadata": {},
   "source": [
    "Now both our dataframes are combined into one dataframe called `combined`. We achieved this by using the `concat()` function to combine our two orignal dataframes along the vertical axis with an outer join, meaning that all data from both dataframes is preserved. For example, if the DETE dataframe contained a column that couldn't be matched in the TAFE dataframe, any rows  from the TAFE dataframe would be updated to contain `NaN` for this column in `combined`. The same applies vice-versa.\n",
    "\n",
    "As there are several columns from both dataframes that have no corresponding column, we probably have a large number of `NaN` values in our combined dataframe. Let's take a look."
   ]
  },
  {
   "cell_type": "code",
   "execution_count": 73,
   "metadata": {},
   "outputs": [
    {
     "name": "stdout",
     "output_type": "stream",
     "text": [
      "Institute                                              311\n",
      "WorkArea                                               311\n",
      "cease_date                                              16\n",
      "Contributing Factors. Career Move - Public Sector      319\n",
      "Contributing Factors. Career Move - Private Sector     319\n",
      "Contributing Factors. Career Move - Self-employment    319\n",
      "Contributing Factors. Ill Health                       319\n",
      "Contributing Factors. Maternity/Family                 319\n",
      "Contributing Factors. Dissatisfaction                  319\n",
      "Contributing Factors. Job Dissatisfaction              319\n",
      "Contributing Factors. Interpersonal Conflict           319\n",
      "Contributing Factors. Study                            319\n",
      "Contributing Factors. Travel                           319\n",
      "Contributing Factors. Other                            319\n",
      "Contributing Factors. NONE                             319\n",
      "gender                                                  59\n",
      "age                                                     55\n",
      "employment_status                                       54\n",
      "position                                                53\n",
      "institute_service                                       88\n",
      "role_service                                           361\n",
      "dissatisfied                                             8\n",
      "dete_start_date                                        368\n",
      "role_start_date                                        380\n",
      "classification                                         490\n",
      "region                                                 386\n",
      "business_unit                                          619\n",
      "career_move_to_public_sector                           340\n",
      "career_move_to_private_sector                          340\n",
      "interpersonal_conflicts                                340\n",
      "job_dissatisfaction                                    340\n",
      "dissatisfaction_with_the_department                    340\n",
      "physical_work_environment                              340\n",
      "lack_of_recognition                                    340\n",
      "lack_of_job_security                                   340\n",
      "work_location                                          340\n",
      "employment_conditions                                  340\n",
      "maternity/family                                       340\n",
      "relocation                                             340\n",
      "study/travel                                           340\n",
      "ill_health                                             340\n",
      "traumatic_incident                                     340\n",
      "work_life_balance                                      340\n",
      "workload                                               340\n",
      "none_of_the_above                                      340\n",
      "aboriginal                                             644\n",
      "torres_strait                                          651\n",
      "south_sea                                              648\n",
      "disability                                             643\n",
      "nesb                                                   642\n",
      "dtype: int64\n"
     ]
    }
   ],
   "source": [
    "# get sum of NaN in each column of combined dataframe\n",
    "check_null = combined.isnull().sum()\n",
    "# filter out any columns with no null values and print remaining columns\n",
    "null_cols = check_null.loc[check_null != 0]\n",
    "print(null_cols)"
   ]
  },
  {
   "cell_type": "markdown",
   "metadata": {},
   "source": [
    "### Dropping more columns\n",
    "Looks like there are multiple columns in the `combined` dataframe that contain significantly large numbers of null values. We know from looking at the shape of `combined` that it has `651` rows. Let's drop any columns with less than `500` **non-null** values. That should remove any columns which did not have a corresponding column in the other dataframe."
   ]
  },
  {
   "cell_type": "code",
   "execution_count": 74,
   "metadata": {},
   "outputs": [
    {
     "data": {
      "text/plain": [
       "Index(['id', 'Institute', 'WorkArea', 'cease_date', 'separationtype',\n",
       "       'Contributing Factors. Career Move - Public Sector ',\n",
       "       'Contributing Factors. Career Move - Private Sector ',\n",
       "       'Contributing Factors. Career Move - Self-employment',\n",
       "       'Contributing Factors. Ill Health',\n",
       "       'Contributing Factors. Maternity/Family',\n",
       "       'Contributing Factors. Dissatisfaction',\n",
       "       'Contributing Factors. Job Dissatisfaction',\n",
       "       'Contributing Factors. Interpersonal Conflict',\n",
       "       'Contributing Factors. Study', 'Contributing Factors. Travel',\n",
       "       'Contributing Factors. Other', 'Contributing Factors. NONE', 'gender',\n",
       "       'age', 'employment_status', 'position', 'institute_service',\n",
       "       'role_service', 'dissatisfied'],\n",
       "      dtype='object')"
      ]
     },
     "execution_count": 74,
     "metadata": {},
     "output_type": "execute_result"
    }
   ],
   "source": [
    "tafe_resignations.columns"
   ]
  },
  {
   "cell_type": "code",
   "execution_count": 75,
   "metadata": {},
   "outputs": [
    {
     "name": "stdout",
     "output_type": "stream",
     "text": [
      "Combined updated shape: (651, 10)\n"
     ]
    },
    {
     "data": {
      "text/html": [
       "<div>\n",
       "<style scoped>\n",
       "    .dataframe tbody tr th:only-of-type {\n",
       "        vertical-align: middle;\n",
       "    }\n",
       "\n",
       "    .dataframe tbody tr th {\n",
       "        vertical-align: top;\n",
       "    }\n",
       "\n",
       "    .dataframe thead th {\n",
       "        text-align: right;\n",
       "    }\n",
       "</style>\n",
       "<table border=\"1\" class=\"dataframe\">\n",
       "  <thead>\n",
       "    <tr style=\"text-align: right;\">\n",
       "      <th></th>\n",
       "      <th>id</th>\n",
       "      <th>cease_date</th>\n",
       "      <th>separationtype</th>\n",
       "      <th>gender</th>\n",
       "      <th>age</th>\n",
       "      <th>employment_status</th>\n",
       "      <th>position</th>\n",
       "      <th>institute_service</th>\n",
       "      <th>dissatisfied</th>\n",
       "      <th>institute</th>\n",
       "    </tr>\n",
       "  </thead>\n",
       "  <tbody>\n",
       "    <tr>\n",
       "      <th>0</th>\n",
       "      <td>6.341399e+17</td>\n",
       "      <td>2010.0</td>\n",
       "      <td>Resignation</td>\n",
       "      <td>NaN</td>\n",
       "      <td>NaN</td>\n",
       "      <td>NaN</td>\n",
       "      <td>NaN</td>\n",
       "      <td>NaN</td>\n",
       "      <td>False</td>\n",
       "      <td>TAFE</td>\n",
       "    </tr>\n",
       "    <tr>\n",
       "      <th>1</th>\n",
       "      <td>6.341466e+17</td>\n",
       "      <td>2010.0</td>\n",
       "      <td>Resignation</td>\n",
       "      <td>Male</td>\n",
       "      <td>41  45</td>\n",
       "      <td>Permanent Full-time</td>\n",
       "      <td>Teacher (including LVT)</td>\n",
       "      <td>3-4</td>\n",
       "      <td>False</td>\n",
       "      <td>TAFE</td>\n",
       "    </tr>\n",
       "    <tr>\n",
       "      <th>2</th>\n",
       "      <td>6.341475e+17</td>\n",
       "      <td>2010.0</td>\n",
       "      <td>Resignation</td>\n",
       "      <td>Female</td>\n",
       "      <td>56 or older</td>\n",
       "      <td>Contract/casual</td>\n",
       "      <td>Teacher (including LVT)</td>\n",
       "      <td>7-10</td>\n",
       "      <td>False</td>\n",
       "      <td>TAFE</td>\n",
       "    </tr>\n",
       "    <tr>\n",
       "      <th>3</th>\n",
       "      <td>6.341520e+17</td>\n",
       "      <td>2010.0</td>\n",
       "      <td>Resignation</td>\n",
       "      <td>Male</td>\n",
       "      <td>20 or younger</td>\n",
       "      <td>Temporary Full-time</td>\n",
       "      <td>Administration (AO)</td>\n",
       "      <td>3-4</td>\n",
       "      <td>False</td>\n",
       "      <td>TAFE</td>\n",
       "    </tr>\n",
       "    <tr>\n",
       "      <th>4</th>\n",
       "      <td>6.341537e+17</td>\n",
       "      <td>2010.0</td>\n",
       "      <td>Resignation</td>\n",
       "      <td>Male</td>\n",
       "      <td>46  50</td>\n",
       "      <td>Permanent Full-time</td>\n",
       "      <td>Teacher (including LVT)</td>\n",
       "      <td>3-4</td>\n",
       "      <td>False</td>\n",
       "      <td>TAFE</td>\n",
       "    </tr>\n",
       "    <tr>\n",
       "      <th>...</th>\n",
       "      <td>...</td>\n",
       "      <td>...</td>\n",
       "      <td>...</td>\n",
       "      <td>...</td>\n",
       "      <td>...</td>\n",
       "      <td>...</td>\n",
       "      <td>...</td>\n",
       "      <td>...</td>\n",
       "      <td>...</td>\n",
       "      <td>...</td>\n",
       "    </tr>\n",
       "    <tr>\n",
       "      <th>646</th>\n",
       "      <td>8.100000e+02</td>\n",
       "      <td>2013.0</td>\n",
       "      <td>Resignation-Other reasons</td>\n",
       "      <td>Female</td>\n",
       "      <td>26-30</td>\n",
       "      <td>Permanent Part-time</td>\n",
       "      <td>Teacher Aide</td>\n",
       "      <td>3</td>\n",
       "      <td>False</td>\n",
       "      <td>DETE</td>\n",
       "    </tr>\n",
       "    <tr>\n",
       "      <th>647</th>\n",
       "      <td>8.170000e+02</td>\n",
       "      <td>2014.0</td>\n",
       "      <td>Resignation-Other employer</td>\n",
       "      <td>Male</td>\n",
       "      <td>21-25</td>\n",
       "      <td>Permanent Full-time</td>\n",
       "      <td>Teacher</td>\n",
       "      <td>2</td>\n",
       "      <td>False</td>\n",
       "      <td>DETE</td>\n",
       "    </tr>\n",
       "    <tr>\n",
       "      <th>648</th>\n",
       "      <td>8.180000e+02</td>\n",
       "      <td>2014.0</td>\n",
       "      <td>Resignation-Move overseas/interstate</td>\n",
       "      <td>Female</td>\n",
       "      <td>21-25</td>\n",
       "      <td>Permanent Full-time</td>\n",
       "      <td>Teacher</td>\n",
       "      <td>2</td>\n",
       "      <td>False</td>\n",
       "      <td>DETE</td>\n",
       "    </tr>\n",
       "    <tr>\n",
       "      <th>649</th>\n",
       "      <td>8.210000e+02</td>\n",
       "      <td>2014.0</td>\n",
       "      <td>Resignation-Move overseas/interstate</td>\n",
       "      <td>Female</td>\n",
       "      <td>31-35</td>\n",
       "      <td>Permanent Full-time</td>\n",
       "      <td>Public Servant</td>\n",
       "      <td>5</td>\n",
       "      <td>True</td>\n",
       "      <td>DETE</td>\n",
       "    </tr>\n",
       "    <tr>\n",
       "      <th>650</th>\n",
       "      <td>8.230000e+02</td>\n",
       "      <td>2013.0</td>\n",
       "      <td>Resignation-Move overseas/interstate</td>\n",
       "      <td>NaN</td>\n",
       "      <td>NaN</td>\n",
       "      <td>NaN</td>\n",
       "      <td>Teacher Aide</td>\n",
       "      <td>NaN</td>\n",
       "      <td>False</td>\n",
       "      <td>DETE</td>\n",
       "    </tr>\n",
       "  </tbody>\n",
       "</table>\n",
       "<p>651 rows × 10 columns</p>\n",
       "</div>"
      ],
      "text/plain": [
       "               id  cease_date                        separationtype  gender  \\\n",
       "0    6.341399e+17      2010.0                           Resignation     NaN   \n",
       "1    6.341466e+17      2010.0                           Resignation    Male   \n",
       "2    6.341475e+17      2010.0                           Resignation  Female   \n",
       "3    6.341520e+17      2010.0                           Resignation    Male   \n",
       "4    6.341537e+17      2010.0                           Resignation    Male   \n",
       "..            ...         ...                                   ...     ...   \n",
       "646  8.100000e+02      2013.0             Resignation-Other reasons  Female   \n",
       "647  8.170000e+02      2014.0            Resignation-Other employer    Male   \n",
       "648  8.180000e+02      2014.0  Resignation-Move overseas/interstate  Female   \n",
       "649  8.210000e+02      2014.0  Resignation-Move overseas/interstate  Female   \n",
       "650  8.230000e+02      2013.0  Resignation-Move overseas/interstate     NaN   \n",
       "\n",
       "               age    employment_status                 position  \\\n",
       "0              NaN                  NaN                      NaN   \n",
       "1           41  45  Permanent Full-time  Teacher (including LVT)   \n",
       "2      56 or older      Contract/casual  Teacher (including LVT)   \n",
       "3    20 or younger  Temporary Full-time      Administration (AO)   \n",
       "4           46  50  Permanent Full-time  Teacher (including LVT)   \n",
       "..             ...                  ...                      ...   \n",
       "646          26-30  Permanent Part-time             Teacher Aide   \n",
       "647          21-25  Permanent Full-time                  Teacher   \n",
       "648          21-25  Permanent Full-time                  Teacher   \n",
       "649          31-35  Permanent Full-time           Public Servant   \n",
       "650            NaN                  NaN             Teacher Aide   \n",
       "\n",
       "    institute_service dissatisfied institute  \n",
       "0                 NaN        False      TAFE  \n",
       "1                 3-4        False      TAFE  \n",
       "2                7-10        False      TAFE  \n",
       "3                 3-4        False      TAFE  \n",
       "4                 3-4        False      TAFE  \n",
       "..                ...          ...       ...  \n",
       "646                 3        False      DETE  \n",
       "647                 2        False      DETE  \n",
       "648                 2        False      DETE  \n",
       "649                 5         True      DETE  \n",
       "650               NaN        False      DETE  \n",
       "\n",
       "[651 rows x 10 columns]"
      ]
     },
     "execution_count": 75,
     "metadata": {},
     "output_type": "execute_result"
    }
   ],
   "source": [
    "# drop any columns with less than 500 non-null values using thresh parameter\n",
    "combined_updated = combined.dropna(thresh=500, axis=1)\n",
    "\n",
    "# identify shape again\n",
    "print(\"Combined updated shape:\", combined_updated.shape)\n",
    "combined_updated"
   ]
  },
  {
   "cell_type": "markdown",
   "metadata": {},
   "source": [
    "Using the `df.dropna()` method, we removed 43 columns from our dataset, leaving us with a much more managebale total of 10 columns.\n",
    "\n",
    "### Cleaning the `institute_service` column and categorising length of service\n",
    " We will need to clean up the `institute_service` column as it contains values in a couple of different forms. Notably some values represent a range of years rather than just an absolute number of years."
   ]
  },
  {
   "cell_type": "code",
   "execution_count": 76,
   "metadata": {},
   "outputs": [
    {
     "data": {
      "text/plain": [
       "Less than 1 year      73\n",
       "1-2                   64\n",
       "3-4                   63\n",
       "5-6                   33\n",
       "11-20                 26\n",
       "5.0                   23\n",
       "1.0                   22\n",
       "7-10                  21\n",
       "0.0                   20\n",
       "3.0                   20\n",
       "6.0                   17\n",
       "4.0                   16\n",
       "2.0                   14\n",
       "9.0                   14\n",
       "7.0                   13\n",
       "More than 20 years    10\n",
       "8.0                    8\n",
       "13.0                   8\n",
       "20.0                   7\n",
       "15.0                   7\n",
       "10.0                   6\n",
       "12.0                   6\n",
       "14.0                   6\n",
       "17.0                   6\n",
       "22.0                   6\n",
       "16.0                   5\n",
       "18.0                   5\n",
       "11.0                   4\n",
       "24.0                   4\n",
       "23.0                   4\n",
       "19.0                   3\n",
       "21.0                   3\n",
       "39.0                   3\n",
       "32.0                   3\n",
       "25.0                   2\n",
       "26.0                   2\n",
       "28.0                   2\n",
       "30.0                   2\n",
       "36.0                   2\n",
       "27.0                   1\n",
       "29.0                   1\n",
       "33.0                   1\n",
       "35.0                   1\n",
       "31.0                   1\n",
       "41.0                   1\n",
       "42.0                   1\n",
       "49.0                   1\n",
       "38.0                   1\n",
       "34.0                   1\n",
       "Name: institute_service, dtype: int64"
      ]
     },
     "execution_count": 76,
     "metadata": {},
     "output_type": "execute_result"
    }
   ],
   "source": [
    "# check unique values in institute service column\n",
    "combined_updated[\"institute_service\"].value_counts()"
   ]
  },
  {
   "cell_type": "markdown",
   "metadata": {},
   "source": [
    "To make our analysis easier, we'll convert these numbers into categories. We'll base our analysis on this [article from BusinessWire](https://www.businesswire.com/news/home/20171108006002/en/Age-Number-Engage-Employees-Career-Stage), which posits that understanding employee's needs according to their career stage is more effective that trying to do so by their age.\n",
    "\n",
    "We'll use a slightly modified set of the article's definitions:\n",
    "\n",
    "- **New:** Less than 3 years at a company\n",
    "- **Experienced:** 3-6 years at a company\n",
    "- **Established:** 7-10 years at a company\n",
    "- **Veteran:** 11 or more years at a company\n",
    "\n",
    "Now that we have our definitions, let's categorise the values in the `institute_service` column. There are two main steps we need to do this:\n",
    "1. extract the years of service from each value in the `institute_service` column\n",
    "2. create a function that maps each year to one of the career stages listed above, and then apply this function to the column\n",
    "\n",
    "A note on extraction: for any values that represent a range of years, we will take the lower limit of the range. The only exception to this is the value `Less than 1 year`, which we consider as just `1` year of service."
   ]
  },
  {
   "cell_type": "code",
   "execution_count": 77,
   "metadata": {
    "scrolled": true
   },
   "outputs": [
    {
     "name": "stdout",
     "output_type": "stream",
     "text": [
      "Check extracted values: \n",
      "\n",
      "0.0      20\n",
      "1.0     159\n",
      "2.0      14\n",
      "3.0      83\n",
      "4.0      16\n",
      "5.0      56\n",
      "6.0      17\n",
      "7.0      34\n",
      "8.0       8\n",
      "9.0      14\n",
      "10.0      6\n",
      "11.0     30\n",
      "12.0      6\n",
      "13.0      8\n",
      "14.0      6\n",
      "15.0      7\n",
      "16.0      5\n",
      "17.0      6\n",
      "18.0      5\n",
      "19.0      3\n",
      "20.0     17\n",
      "21.0      3\n",
      "22.0      6\n",
      "23.0      4\n",
      "24.0      4\n",
      "25.0      2\n",
      "26.0      2\n",
      "27.0      1\n",
      "28.0      2\n",
      "29.0      1\n",
      "30.0      2\n",
      "31.0      1\n",
      "32.0      3\n",
      "33.0      1\n",
      "34.0      1\n",
      "35.0      1\n",
      "36.0      2\n",
      "38.0      1\n",
      "39.0      3\n",
      "41.0      1\n",
      "42.0      1\n",
      "49.0      1\n",
      "NaN      88\n",
      "Name: institute_service, dtype: int64\n"
     ]
    }
   ],
   "source": [
    "## Step 1: extract the years of service from each value  ## \n",
    "\n",
    "# create copy of combined_updated to avoid SettingsWithCopy error\n",
    "combined_clean = combined_updated.copy()\n",
    "\n",
    "# convert institute_service dtype to string and extract first instance of regex match -\n",
    "# for any values that represent a range of years, this will take the lower limit of the range\n",
    "combined_clean[\"institute_service\"] = (combined_updated[\"institute_service\"]\n",
    "                                                                           .astype('str')\n",
    "                                                                           .str.extract(r\"(\\d+)\")\n",
    "                                       )\n",
    "\n",
    "# convert values to floats\n",
    "combined_clean[\"institute_service\"] = combined_clean[\"institute_service\"].astype('float')\n",
    "\n",
    "# check extraction has worked as expected\n",
    "print(\"Check extracted values: \\n\")\n",
    "print(combined_clean[\"institute_service\"].value_counts(dropna=False).sort_index(ascending=True))"
   ]
  },
  {
   "cell_type": "code",
   "execution_count": 78,
   "metadata": {},
   "outputs": [
    {
     "name": "stdout",
     "output_type": "stream",
     "text": [
      "New            193\n",
      "Experienced    172\n",
      "Veteran        136\n",
      "NaN             88\n",
      "Established     62\n",
      "Name: service_cat, dtype: int64 \n",
      "\n",
      "Verify number of employees that should labelled as 'New':  193\n"
     ]
    }
   ],
   "source": [
    "## Step 2: map each value to one of the career stage defintions ##\n",
    "\n",
    "# create function to map service length to a career stage\n",
    "def career_stage(service):\n",
    "    if pd.isnull(service):\n",
    "        pass\n",
    "    elif service < 3:\n",
    "        return \"New\"\n",
    "    elif service < 7:\n",
    "        return \"Experienced\"\n",
    "    elif service < 11:\n",
    "        return \"Established\"\n",
    "    else: return \"Veteran\"\n",
    "\n",
    "# use Series.apply() to apply the function to the institute_service column\n",
    "combined_clean[\"service_cat\"] = combined_clean[\"institute_service\"].apply(career_stage)\n",
    "\n",
    "# check values in new column\n",
    "print(combined_clean[\"service_cat\"].value_counts(dropna=False), \"\\n\")\n",
    "\n",
    "# spot check the number of employees that should be marked as 'New'\n",
    "check_new = (combined_clean.loc[combined_clean[\"institute_service\"] < 3, \"institute_service\"]\n",
    "                                                                                 .value_counts()\n",
    "                                                                                 .sum()\n",
    ")\n",
    "\n",
    "print(\"Verify number of employees that should labelled as 'New': \", check_new)"
   ]
  },
  {
   "cell_type": "markdown",
   "metadata": {},
   "source": [
    "We now have a new column, `service_cat`, in our dataframe that indicates what stage an employee is at in their career.\n",
    "\n",
    "### Cleaning the `age` column\n",
    "One of the questions we need to answer for our analysis relies on knowing the age of the employee. Let's inspect the age column to see what the data is currently like."
   ]
  },
  {
   "cell_type": "code",
   "execution_count": 79,
   "metadata": {},
   "outputs": [
    {
     "data": {
      "text/plain": [
       "51-55            71\n",
       "NaN              55\n",
       "41-45            48\n",
       "41  45           45\n",
       "46-50            42\n",
       "36-40            41\n",
       "46  50           39\n",
       "26-30            35\n",
       "21  25           33\n",
       "31  35           32\n",
       "26  30           32\n",
       "36  40           32\n",
       "56 or older      29\n",
       "31-35            29\n",
       "21-25            29\n",
       "56-60            26\n",
       "61 or older      23\n",
       "20 or younger    10\n",
       "Name: age, dtype: int64"
      ]
     },
     "execution_count": 79,
     "metadata": {},
     "output_type": "execute_result"
    }
   ],
   "source": [
    "combined_clean[\"age\"].value_counts(dropna=False)"
   ]
  },
  {
   "cell_type": "markdown",
   "metadata": {},
   "source": [
    "It appears we have a mix of values, all of which represent ranges of years. Since it's not necessary for this column to be in a numerical form, unlike the `institute_service` column that we previously cleaned, we can keep the values as strings, but we will need to tidy up the ranges so there is no overlap.\n",
    "\n",
    "Let's attempt the following:\n",
    "- strip any leading or trailing white space\n",
    "- replace all double spaces with a single hyphen\n",
    "- convert the string `56 or older` to `56-60`"
   ]
  },
  {
   "cell_type": "code",
   "execution_count": 80,
   "metadata": {},
   "outputs": [
    {
     "name": "stdout",
     "output_type": "stream",
     "text": [
      "41-45            93\n",
      "46-50            81\n",
      "36-40            73\n",
      "51-55            71\n",
      "26-30            67\n",
      "21-25            62\n",
      "31-35            61\n",
      "56-60            55\n",
      "NaN              55\n",
      "61 or older      23\n",
      "20 or younger    10\n",
      "Name: age, dtype: int64\n"
     ]
    }
   ],
   "source": [
    "# create copy to work on\n",
    "ages_dirty = combined_clean[\"age\"].copy()\n",
    "\n",
    "ages_clean = (ages_dirty\n",
    "                      .str.strip()\n",
    "                      .str.replace(\"  \", \"-\", regex=False)\n",
    "                      .str.replace(\"56 or older\", \"56-60\", regex=False)\n",
    "             )\n",
    "\n",
    "# check data is clean\n",
    "print(ages_clean.value_counts(dropna=False))\n",
    "\n",
    "# assign back to age column in combined_clean\n",
    "combined_clean[\"age\"] = ages_clean.copy()"
   ]
  },
  {
   "cell_type": "markdown",
   "metadata": {},
   "source": [
    "The `age` column is now cleaned up.\n",
    "\n",
    "### Cleaning the `dissatisfied` column\n",
    "\n",
    "Recall that the `dissatisfied` column consists of boolean values. Methods like `df.pivot_table()` actually treat boolean values as integers, so a `True` value is considered to be `1` and a `False` value is considered to be `0`. That means that we can aggregate the dissatisfied column and calculate the number of people in each group, the percentage of people in each group, etc.\n",
    "\n",
    "Before we try aggregating the `dissatisfied` column, let's check if there are any missing values."
   ]
  },
  {
   "cell_type": "code",
   "execution_count": 81,
   "metadata": {},
   "outputs": [
    {
     "name": "stdout",
     "output_type": "stream",
     "text": [
      "Count \n",
      "\n",
      "False    403\n",
      "True     240\n",
      "NaN        8\n",
      "Name: dissatisfied, dtype: int64\n",
      "\n",
      "Relative frequency\n",
      "\n",
      "False    62.0\n",
      "True     37.0\n",
      "NaN       1.0\n",
      "Name: dissatisfied, dtype: float64\n"
     ]
    }
   ],
   "source": [
    "print(\"Count \\n\")\n",
    "print(combined_clean[\"dissatisfied\"].value_counts(dropna=False))\n",
    "print(\"\\nRelative frequency\\n\")\n",
    "print(round(combined_clean[\"dissatisfied\"].value_counts(dropna=False, normalize=True)*100))"
   ]
  },
  {
   "cell_type": "markdown",
   "metadata": {},
   "source": [
    "Since there are only eight missing values, representing around `1%` of all values in the column, it is probably safe to replace these missing values with the value that occurs most frequently (`False`) without affecting our analysis."
   ]
  },
  {
   "cell_type": "code",
   "execution_count": 82,
   "metadata": {},
   "outputs": [
    {
     "data": {
      "text/plain": [
       "False    411\n",
       "True     240\n",
       "Name: dissatisfied, dtype: int64"
      ]
     },
     "execution_count": 82,
     "metadata": {},
     "output_type": "execute_result"
    }
   ],
   "source": [
    "# replace any NaN values with 'False'\n",
    "combined_clean.fillna(value={\"dissatisfied\": False}, inplace=True)\n",
    "\n",
    "# validate changes\n",
    "combined_clean[\"dissatisfied\"].value_counts(dropna=False)"
   ]
  },
  {
   "cell_type": "markdown",
   "metadata": {},
   "source": [
    "We have now dealt with missing values in the `dissatisfied` column, let's try and resolve the missing values for the other columns.\n",
    "\n",
    "### Handling remaining missing values TO DO\n",
    "Before we can start analysing the data, we need to decide what to do with any remaining missing values in our combined dataset. First, let's check how many missing values we have in each of our columns."
   ]
  },
  {
   "cell_type": "code",
   "execution_count": 83,
   "metadata": {},
   "outputs": [
    {
     "name": "stdout",
     "output_type": "stream",
     "text": [
      "id                    0\n",
      "cease_date           16\n",
      "separationtype        0\n",
      "gender               59\n",
      "age                  55\n",
      "employment_status    54\n",
      "position             53\n",
      "institute_service    88\n",
      "dissatisfied          0\n",
      "institute             0\n",
      "service_cat          88\n",
      "dtype: int64\n"
     ]
    }
   ],
   "source": [
    "# identify all remaining missing values in each column\n",
    "print(combined_clean.isnull().sum())"
   ]
  },
  {
   "cell_type": "markdown",
   "metadata": {},
   "source": [
    "Let's plot a heatmap of our missing data, setting the `institute` column as the index since it is likely that if there are any patterns in the missing data it will probably be related to the original data set rather than any other column. "
   ]
  },
  {
   "cell_type": "code",
   "execution_count": 84,
   "metadata": {},
   "outputs": [
    {
     "data": {
      "text/plain": [
       "<matplotlib.axes._subplots.AxesSubplot at 0x7f3f6851e4c0>"
      ]
     },
     "execution_count": 84,
     "metadata": {},
     "output_type": "execute_result"
    },
    {
     "data": {
      "image/png": "[encoded data removed]",
      "text/plain": [
       "<Figure size 600x400 with 1 Axes>"
      ]
     },
     "metadata": {},
     "output_type": "display_data"
    }
   ],
   "source": [
    "import seaborn as sns\n",
    "combined_institute = combined_clean.set_index('institute')\n",
    "sns.heatmap(combined_institute.isnull(), cbar=False)"
   ]
  },
  {
   "cell_type": "markdown",
   "metadata": {},
   "source": [
    "We can see from the heatmap that there are some patterns to missing values in our combined dataset. There is a clear pattern for rows from the TAFE dataset that containing missing values. Each row has missing information across several columns:\n",
    "- gender\n",
    "- age\n",
    "- employment_status\n",
    "- position\n",
    "- institute_service\n",
    "- service_cat\n",
    "\n",
    "This being the case, it's probably easiest to just drop these rows rather than attempt to fill the rows with substitute values.\n",
    "\n",
    "What are our options?\n",
    "\n",
    "**Option A: substitute missing values**\n",
    "\n",
    "For all non-numeric columns, replace `NaN` with `Unknown` as we can't reliably estimate what the value should be. For all numeric columns, we substitute the mean value of the column.\n",
    "\n",
    "**Option B: drop all rows with null values**\n",
    "\n",
    "Easier of the two options, however if null values make up a significant number of rows in our dataset, it could affect our analysis. Let's figure out what percentage of the total values in each column are missing."
   ]
  },
  {
   "cell_type": "code",
   "execution_count": 85,
   "metadata": {},
   "outputs": [
    {
     "data": {
      "text/plain": [
       "id                    0.000000\n",
       "cease_date            2.457757\n",
       "separationtype        0.000000\n",
       "gender                9.062980\n",
       "age                   8.448541\n",
       "employment_status     8.294931\n",
       "position              8.141321\n",
       "institute_service    13.517665\n",
       "dissatisfied          0.000000\n",
       "institute             0.000000\n",
       "service_cat          13.517665\n",
       "dtype: float64"
      ]
     },
     "execution_count": 85,
     "metadata": {},
     "output_type": "execute_result"
    }
   ],
   "source": [
    "# calculate percentage of missing values in each column\n",
    "combined_clean.isnull().sum() / len(combined_clean.index) * 100"
   ]
  },
  {
   "cell_type": "markdown",
   "metadata": {},
   "source": [
    "Looking at the heatmap, it's clear that for the vast majority of rows that contain missing data, this data is almost always missing for the `institute_service` column, and by extension, the `service_cat` column. Given that:\n",
    "- these columns are essential for our analysis\n",
    "- we can't reasonbly estimate how long someone has worked either institute\n",
    "- the highest percentage of null values for any column is `13.5%`\n",
    "\n",
    "it's probably best to go for option B and drop all rows containing NaN values."
   ]
  },
  {
   "cell_type": "code",
   "execution_count": 86,
   "metadata": {},
   "outputs": [
    {
     "data": {
      "text/plain": [
       "id                   0\n",
       "cease_date           0\n",
       "separationtype       0\n",
       "gender               0\n",
       "age                  0\n",
       "employment_status    0\n",
       "position             0\n",
       "institute_service    0\n",
       "dissatisfied         0\n",
       "institute            0\n",
       "service_cat          0\n",
       "dtype: int64"
      ]
     },
     "execution_count": 86,
     "metadata": {},
     "output_type": "execute_result"
    }
   ],
   "source": [
    " # Option B - drop all rows containing NaN values\n",
    "combined_final = combined_clean.copy()\n",
    "combined_final.dropna(inplace=True)\n",
    "combined_final.isnull().sum()"
   ]
  },
  {
   "cell_type": "markdown",
   "metadata": {},
   "source": [
    "To be confident that dropping missing values will not affect our analysis, let's compare the mean of the `dissatisied` column for each category in `service_cat` before and after dropping the missing values."
   ]
  },
  {
   "cell_type": "code",
   "execution_count": 87,
   "metadata": {},
   "outputs": [
    {
     "name": "stdout",
     "output_type": "stream",
     "text": [
      "Before dropping missing values \n",
      "\n",
      "              dissatisfied\n",
      "service_cat              \n",
      "Established      0.516129\n",
      "Experienced      0.343023\n",
      "New              0.295337\n",
      "Veteran          0.485294 \n",
      "\n",
      "\n",
      "After dropping missing values \n",
      "\n",
      "              dissatisfied\n",
      "service_cat              \n",
      "Established      0.508197\n",
      "Experienced      0.345029\n",
      "New              0.298429\n",
      "Veteran          0.492188\n"
     ]
    }
   ],
   "source": [
    "# pivot table with dataset prior to dropping missing values\n",
    "combined_clean_pivot = combined_clean.pivot_table(values=\"dissatisfied\", index=\"service_cat\")\n",
    "\n",
    "# pivot table with dataset after dropping missing values\n",
    "combined_final_pivot = combined_final.pivot_table(values=\"dissatisfied\", index=\"service_cat\")\n",
    "\n",
    "# display output\n",
    "print(\"Before dropping missing values \\n\\n\", combined_clean_pivot, \"\\n\\n\")\n",
    "print(\"After dropping missing values \\n\\n\", combined_final_pivot)"
   ]
  },
  {
   "cell_type": "code",
   "execution_count": 88,
   "metadata": {},
   "outputs": [
    {
     "data": {
      "text/html": [
       "<div>\n",
       "<style scoped>\n",
       "    .dataframe tbody tr th:only-of-type {\n",
       "        vertical-align: middle;\n",
       "    }\n",
       "\n",
       "    .dataframe tbody tr th {\n",
       "        vertical-align: top;\n",
       "    }\n",
       "\n",
       "    .dataframe thead th {\n",
       "        text-align: right;\n",
       "    }\n",
       "</style>\n",
       "<table border=\"1\" class=\"dataframe\">\n",
       "  <thead>\n",
       "    <tr style=\"text-align: right;\">\n",
       "      <th></th>\n",
       "      <th>dissatisfied</th>\n",
       "    </tr>\n",
       "    <tr>\n",
       "      <th>service_cat</th>\n",
       "      <th></th>\n",
       "    </tr>\n",
       "  </thead>\n",
       "  <tbody>\n",
       "    <tr>\n",
       "      <th>Established</th>\n",
       "      <td>-0.007932</td>\n",
       "    </tr>\n",
       "    <tr>\n",
       "      <th>Experienced</th>\n",
       "      <td>0.002006</td>\n",
       "    </tr>\n",
       "    <tr>\n",
       "      <th>New</th>\n",
       "      <td>0.003093</td>\n",
       "    </tr>\n",
       "    <tr>\n",
       "      <th>Veteran</th>\n",
       "      <td>0.006893</td>\n",
       "    </tr>\n",
       "  </tbody>\n",
       "</table>\n",
       "</div>"
      ],
      "text/plain": [
       "             dissatisfied\n",
       "service_cat              \n",
       "Established     -0.007932\n",
       "Experienced      0.002006\n",
       "New              0.003093\n",
       "Veteran          0.006893"
      ]
     },
     "execution_count": 88,
     "metadata": {},
     "output_type": "execute_result"
    }
   ],
   "source": [
    "# calculate difference in mean before and after removing null rows\n",
    "combined_final_pivot - combined_clean_pivot"
   ]
  },
  {
   "cell_type": "markdown",
   "metadata": {},
   "source": [
    "We can see that dropping the rows containing missing values has had a minimal impact on the mean. Now we're ready to start our analysis!"
   ]
  },
  {
   "cell_type": "markdown",
   "metadata": {},
   "source": [
    "### Recap on data cleaning\n",
    "\n",
    "To recap, we've accomplished the following: **TODO CHECK ORDER**\n",
    "\n",
    "- Explored the data and figured out how to prepare it for analysis\n",
    "- Ensured any missing data was imported as `NaN` rather than `Not stated`\n",
    "- Standardised the names of our columns across both dataframes\n",
    "- Dropped any data not needed for our analysis\n",
    "- Verified the quality of our data\n",
    "- Combined the data\n",
    "- Created a new `institute_service` column to indiciate an employee's length of service\n",
    "- Cleaned the 'contributing factors' columns\n",
    "- Created a new column indicating if an employee resigned because they were dissatisfied in some way\n",
    "- Cleaned the `age` column\n",
    "- Handled the missing values in the `dissatisfied` column\n",
    "- Handled remaining missing values throughout dataset\n",
    "\n",
    "\n",
    "## Analysis TO DO\n",
    "\n",
    "As a reminder, we are trying to answer the following questions:\n",
    "\n",
    "- are employees who only worked for the institutes for a short period of time resigning due to some kind of dissatisfaction? What about employees who have been there longer?\n",
    "- are younger employees resigning due to some kind of dissatisfaction? What about older employees?\n",
    "\n",
    "Let's calculate the percentage of dissatisifed employees in each `service_cat` group. To do this we will use use `df.pivot_table()` to aggregate the `service_cat` column grouped by the mean of the `dissatisifed` column. We know that since `True` equates to a value of `1` and `False` equates to `0`, calculating the mean is equivalent to calcuating the percentage of dissastisfied employees, while calculating the sum is equivalent to counting the number of dissatisfied employees."
   ]
  },
  {
   "cell_type": "code",
   "execution_count": 89,
   "metadata": {},
   "outputs": [
    {
     "data": {
      "image/png": "[encoded data removed]",
      "text/plain": [
       "<Figure size 600x400 with 1 Axes>"
      ]
     },
     "metadata": {},
     "output_type": "display_data"
    }
   ],
   "source": [
    "# create bar chart showing mean dissatisfaction for each category\n",
    "# we can use the pivot table we created earlier\n",
    "ax = combined_final_pivot.plot(kind=\"bar\", rot=35, legend=False)"
   ]
  },
  {
   "cell_type": "markdown",
   "metadata": {},
   "source": [
    "The bar plot indicates that resignation due to dissatisfaction increases with length of service, though ever so slightly decreases for `Veteran` level employees. It is reasonable to expect that the longer someone works in the same organisation the more likely they would quit from that organisation as a result of becoming dissatisfied.\n",
    "\n",
    "On another note, the bar plot above has revealed that the categories within `service_cat` have no defined order, it would be ideal if the categories appeared in order of the length of service they represent. We can change this by utilising Panda's [`CategoricalDtype`](https://pandas.pydata.org/pandas-docs/stable/user_guide/categorical.html#categoricaldtype), a special datatype we can use to define our categories in the order we want. Let's try remaking the above bar plot but this time we will create a `CategoricalDtype` that defines our categories in order, and then convert the values in the `service_cat` column from the `object` dtype to our new `CategoricalDtype`."
   ]
  },
  {
   "cell_type": "code",
   "execution_count": 90,
   "metadata": {},
   "outputs": [
    {
     "data": {
      "image/png": "[encoded data removed]",
      "text/plain": [
       "<Figure size 600x400 with 1 Axes>"
      ]
     },
     "metadata": {},
     "output_type": "display_data"
    }
   ],
   "source": [
    "from pandas.api.types import CategoricalDtype\n",
    "\n",
    "# create a CategoricalDtype that defines the order of our categories\n",
    "cat_type = CategoricalDtype(categories=[\"New\", \"Experienced\", \"Established\", \"Veteran\"], ordered=True)\n",
    "\n",
    "# convert the service_cat column dtype to the new CategoricalDtype\n",
    "combined_final[\"service_cat\"] = combined_final[\"service_cat\"].astype(cat_type)\n",
    "\n",
    "# create a new pivot table aggregated by the mean and then plot a bar chart\n",
    "service_pivot = combined_final.pivot_table(values=\"dissatisfied\", index=\"service_cat\", aggfunc=[np.sum, np.mean])\n",
    "ax = service_pivot[\"mean\"].plot(kind=\"bar\", rot=35, title=\"Percentage resigned due to dissastisfaction\", legend=False)\n",
    "ax.set_ylabel(\"Mean dissatisfaction\")\n",
    "\n",
    "plt.show()"
   ]
  },
  {
   "cell_type": "markdown",
   "metadata": {},
   "source": [
    "Now the categories are in a logical order.\n",
    "\n",
    "#### How many people in each age group resigned due to some kind of dissatisfaction?\n",
    "Now let's explore grouping the values of the `dissatisfied` column by the values in the `age` column."
   ]
  },
  {
   "cell_type": "code",
   "execution_count": 91,
   "metadata": {},
   "outputs": [
    {
     "name": "stdout",
     "output_type": "stream",
     "text": [
      "                      mean          sum\n",
      "              dissatisfied dissatisfied\n",
      "age                                    \n",
      "20 or younger     0.200000          2.0\n",
      "21-25             0.288136         17.0\n",
      "26-30             0.412698         26.0\n",
      "31-35             0.383333         23.0\n",
      "36-40             0.363636         24.0\n",
      "41-45             0.393258         35.0\n",
      "46-50             0.402778         29.0\n",
      "51-55             0.402985         27.0\n",
      "56-60             0.346939         17.0\n",
      "61 or older       0.625000         10.0\n"
     ]
    },
    {
     "data": {
      "image/png": "[encoded data removed]",
      "text/plain": [
       "<Figure size 600x900 with 2 Axes>"
      ]
     },
     "metadata": {},
     "output_type": "display_data"
    }
   ],
   "source": [
    "# create and print a pivot table aggregating values by both the mean and the sum\n",
    "age_pivot = combined_final.pivot_table(values=\"dissatisfied\", index=\"age\", aggfunc=[np.mean, np.sum])\n",
    "print(age_pivot)\n",
    "\n",
    "# generate horizontal bar plots using pivot table for both the sum and the mean\n",
    "fig, axs = plt.subplots(nrows = 2, ncols = 1, figsize = (6, 9))\n",
    "\n",
    "ax1 = age_pivot[\"sum\"].plot.barh(\n",
    "                                 ax = axs[0], \n",
    "                                 legend=False, \n",
    "                                 title=\"Sum of employees resigning due to dissatisfaction by age group\"\n",
    "                                 )\n",
    "\n",
    "ax2 = age_pivot[\"mean\"].plot.barh(\n",
    "                                 ax = axs[1], \n",
    "                                 legend=False, \n",
    "                                 title=\"Mean of employees resigning due to dissatisfaction by age group\"\n",
    "                                 )"
   ]
  },
  {
   "cell_type": "markdown",
   "metadata": {},
   "source": [
    "Looking at the first plot, we can see that the age group with the most resignations due to dissatisfaction the ages `41-45` group. Comparitavely, there are typically fewer resignations towards the oldest and youngest age groups. This doesn't tell the full story, however, as it is likely that there are just more employees in total for the `41-45` age group.\n",
    "\n",
    "The second plot is much more telling. Recall that by plotting the mean of the `dissatisfied` column we are effectively looking at the percentage of employees who resigned due to dissatisfaction for each age group. We can now see that it is the individuals in the `61 or older` age group who are the most likely to resign due to feeling dissatisfied, accounting for \n",
    "`62.5%` of all resignations for the age group. Although the `41-45` age group had the most resignations due to disatisfaciton, this accounted for a smaller percentage (`39%`) of the total resignations for the cohort. "
   ]
  },
  {
   "cell_type": "code",
   "execution_count": 92,
   "metadata": {},
   "outputs": [
    {
     "data": {
      "text/plain": [
       "<matplotlib.axes._subplots.AxesSubplot at 0x7f3f319bae80>"
      ]
     },
     "execution_count": 92,
     "metadata": {},
     "output_type": "execute_result"
    },
    {
     "data": {
      "image/png": "[encoded data removed]",
      "text/plain": [
       "<Figure size 600x400 with 1 Axes>"
      ]
     },
     "metadata": {},
     "output_type": "display_data"
    }
   ],
   "source": [
    "age_pivot[\"mean\"].boxplot()"
   ]
  },
  {
   "cell_type": "markdown",
   "metadata": {},
   "source": [
    "Looking at this boxplot, we can see that typically around 35 to 40 percent of all resignations are due to dissatisfaction."
   ]
  },
  {
   "cell_type": "markdown",
   "metadata": {},
   "source": [
    "### Analysing by DETE or TAFE\n",
    "Let's see if there is a difference the DETE and TAFE institutes when it comes to measuring the number of employees who resigned due to dissatisfaction."
   ]
  },
  {
   "cell_type": "code",
   "execution_count": 93,
   "metadata": {},
   "outputs": [
    {
     "data": {
      "text/plain": [
       "<matplotlib.axes._subplots.AxesSubplot at 0x7f3f31929d00>"
      ]
     },
     "execution_count": 93,
     "metadata": {},
     "output_type": "execute_result"
    },
    {
     "data": {
      "image/png": "[encoded data removed]",
      "text/plain": [
       "<Figure size 600x400 with 1 Axes>"
      ]
     },
     "metadata": {},
     "output_type": "display_data"
    }
   ],
   "source": [
    "institute_pivot = combined_final.pivot_table(values=\"dissatisfied\", index=\"service_cat\", columns=\"institute\")\n",
    "institute_pivot.plot.barh()"
   ]
  },
  {
   "cell_type": "markdown",
   "metadata": {},
   "source": [
    "Interestingly, the plot above reveals to us that former employees of the DETE institute were signfiicantly more dissatisfied than their TAFE counterparts.\n",
    "\n",
    "## Conclusion\n",
    "1. are employees who only worked for the institutes for a short period of time resigning due to some kind of dissatisfaction? What about employees who have been there longer?\n",
    "2. are younger employees resigning due to some kind of dissatisfaction? What about older employees?\n",
    "\n",
    "Further investigations\n",
    "- It is clear that employee dissatisfaction is a greater issue at the DETE institute than the TAFE institute. It would be interesting to explore the possible reasons why this might be the case. We could attempt to identify factors that are unique to DETE that could be contributuing towards dissastisfaction (is the office a poor working environment?) , or perhaps identify factors common to both institutes that have greater impact on (is the average salary lower, shorter lunch breaks etc?)"
   ]
  }
 ],
 "metadata": {
  "kernelspec": {
   "display_name": "Python 3",
   "language": "python",
   "name": "python3"
  },
  "language_info": {
   "codemirror_mode": {
    "name": "ipython",
    "version": 3
   },
   "file_extension": ".py",
   "mimetype": "text/x-python",
   "name": "python",
   "nbconvert_exporter": "python",
   "pygments_lexer": "ipython3",
   "version": "3.8.2"
  }
 },
 "nbformat": 4,
 "nbformat_minor": 2
}
